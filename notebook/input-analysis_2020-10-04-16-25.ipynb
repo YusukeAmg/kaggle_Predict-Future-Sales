{
 "cells": [
  {
   "cell_type": "code",
   "execution_count": 1,
   "metadata": {},
   "outputs": [],
   "source": [
    "import numpy as np\n",
    "import pandas as pd"
   ]
  },
  {
   "cell_type": "code",
   "execution_count": 11,
   "metadata": {},
   "outputs": [],
   "source": [
    "item_cats_df = pd.read_csv('../data/input/item_categories.csv')\n",
    "item_df = pd.read_csv('../data/input/items.csv')\n",
    "sales_train_df = pd.read_csv('../data/input/sales_train.csv')\n",
    "sample_submission_df = pd.read_csv('../data/input/sample_submission.csv')\n",
    "shops_df = pd.read_csv('../data/input/shops.csv')\n",
    "\n",
    "test = pd.read_csv('../data/input/test.csv')"
   ]
  },
  {
   "cell_type": "markdown",
   "metadata": {},
   "source": [
    "date_block_num:連続した月の番号。　2013年1月=0, 2013年2月=1, ..., 2015年10月=33  \n",
    "item_cnt_day:商品の売れた数。目的変数。  \n",
    "item_id:商品個別の識別子  \n",
    "sales_train_df以外のデータは必要なし？"
   ]
  },
  {
   "cell_type": "markdown",
   "metadata": {},
   "source": [
    "# 前処理"
   ]
  },
  {
   "cell_type": "code",
   "execution_count": 12,
   "metadata": {},
   "outputs": [],
   "source": [
    "train = sales_train_df.copy()\n",
    "# 日付型に変換\n",
    "train['date'] = pd.to_datetime(train['date'])\n",
    "# 負の値を除去\n",
    "train = train[train['item_price'] > 0].copy()\n",
    "train = train[train['item_cnt_day'] > 0].copy()"
   ]
  },
  {
   "cell_type": "code",
   "execution_count": 13,
   "metadata": {},
   "outputs": [
    {
     "data": {
      "image/png": "[encoded data removed]",
      "text/plain": [
       "<Figure size 432x288 with 1 Axes>"
      ]
     },
     "metadata": {
      "needs_background": "light"
     },
     "output_type": "display_data"
    },
    {
     "data": {
      "image/png": "[encoded data removed]",
      "text/plain": [
       "<Figure size 432x288 with 1 Axes>"
      ]
     },
     "metadata": {
      "needs_background": "light"
     },
     "output_type": "display_data"
    },
    {
     "data": {
      "image/png": "[encoded data removed]",
      "text/plain": [
       "<Figure size 432x288 with 1 Axes>"
      ]
     },
     "metadata": {
      "needs_background": "light"
     },
     "output_type": "display_data"
    }
   ],
   "source": [
    "# 外れ値の確認\n",
    "import matplotlib.pyplot as plt\n",
    "train.plot.box()\n",
    "plt.show()\n",
    "train[['item_price']].boxplot()\n",
    "plt.show()\n",
    "train[['item_cnt_day']].boxplot()\n",
    "plt.show()"
   ]
  },
  {
   "cell_type": "code",
   "execution_count": 14,
   "metadata": {},
   "outputs": [
    {
     "name": "stdout",
     "output_type": "stream",
     "text": [
      "2124.0\n",
      "4344.463915758676\n"
     ]
    }
   ],
   "source": [
    "# item_priceの外れ値処理\n",
    "# 四分位範囲\n",
    "q1 = train['item_price'].quantile(0.25)\n",
    "q3 = train['item_price'].quantile(0.75)\n",
    "ipr = q3 - q1\n",
    "outliner_max1 = q3 + ipr * 1.5\n",
    "# 標準偏差\n",
    "outliner_max2 = train['item_price'].mean() + train['item_price'].std() * 2\n",
    "\n",
    "print(outliner_max1)\n",
    "print(outliner_max2)"
   ]
  },
  {
   "cell_type": "code",
   "execution_count": 15,
   "metadata": {},
   "outputs": [
    {
     "data": {
      "text/plain": [
       "<matplotlib.axes._subplots.AxesSubplot at 0x7f0034de5710>"
      ]
     },
     "execution_count": 15,
     "metadata": {},
     "output_type": "execute_result"
    },
    {
     "data": {
      "image/png": "[encoded data removed]",
      "text/plain": [
       "<Figure size 432x288 with 1 Axes>"
      ]
     },
     "metadata": {
      "needs_background": "light"
     },
     "output_type": "display_data"
    }
   ],
   "source": [
    "train = train[train['item_price'] < outliner_max1].copy()\n",
    "\n",
    "train[['item_price']].boxplot()"
   ]
  },
  {
   "cell_type": "code",
   "execution_count": 16,
   "metadata": {},
   "outputs": [
    {
     "data": {
      "text/html": [
       "<div>\n",
       "<style scoped>\n",
       "    .dataframe tbody tr th:only-of-type {\n",
       "        vertical-align: middle;\n",
       "    }\n",
       "\n",
       "    .dataframe tbody tr th {\n",
       "        vertical-align: top;\n",
       "    }\n",
       "\n",
       "    .dataframe thead th {\n",
       "        text-align: right;\n",
       "    }\n",
       "</style>\n",
       "<table border=\"1\" class=\"dataframe\">\n",
       "  <thead>\n",
       "    <tr style=\"text-align: right;\">\n",
       "      <th></th>\n",
       "      <th>date</th>\n",
       "      <th>date_block_num</th>\n",
       "      <th>shop_id</th>\n",
       "      <th>item_id</th>\n",
       "      <th>item_price</th>\n",
       "      <th>item_cnt_day</th>\n",
       "    </tr>\n",
       "  </thead>\n",
       "  <tbody>\n",
       "    <tr>\n",
       "      <th>566159</th>\n",
       "      <td>2013-11-06</td>\n",
       "      <td>5</td>\n",
       "      <td>12</td>\n",
       "      <td>2808</td>\n",
       "      <td>999.000000</td>\n",
       "      <td>200.0</td>\n",
       "    </tr>\n",
       "    <tr>\n",
       "      <th>836296</th>\n",
       "      <td>2013-08-29</td>\n",
       "      <td>7</td>\n",
       "      <td>12</td>\n",
       "      <td>2808</td>\n",
       "      <td>999.000000</td>\n",
       "      <td>150.0</td>\n",
       "    </tr>\n",
       "    <tr>\n",
       "      <th>868495</th>\n",
       "      <td>2013-05-09</td>\n",
       "      <td>8</td>\n",
       "      <td>25</td>\n",
       "      <td>2808</td>\n",
       "      <td>999.000000</td>\n",
       "      <td>133.0</td>\n",
       "    </tr>\n",
       "    <tr>\n",
       "      <th>944059</th>\n",
       "      <td>2013-10-29</td>\n",
       "      <td>9</td>\n",
       "      <td>42</td>\n",
       "      <td>1849</td>\n",
       "      <td>1199.000000</td>\n",
       "      <td>113.0</td>\n",
       "    </tr>\n",
       "    <tr>\n",
       "      <th>949279</th>\n",
       "      <td>2013-10-29</td>\n",
       "      <td>9</td>\n",
       "      <td>6</td>\n",
       "      <td>1849</td>\n",
       "      <td>1199.000000</td>\n",
       "      <td>118.0</td>\n",
       "    </tr>\n",
       "    <tr>\n",
       "      <th>...</th>\n",
       "      <td>...</td>\n",
       "      <td>...</td>\n",
       "      <td>...</td>\n",
       "      <td>...</td>\n",
       "      <td>...</td>\n",
       "      <td>...</td>\n",
       "    </tr>\n",
       "    <tr>\n",
       "      <th>2864262</th>\n",
       "      <td>2015-09-28</td>\n",
       "      <td>32</td>\n",
       "      <td>12</td>\n",
       "      <td>9248</td>\n",
       "      <td>1500.000000</td>\n",
       "      <td>139.0</td>\n",
       "    </tr>\n",
       "    <tr>\n",
       "      <th>2864264</th>\n",
       "      <td>2015-09-30</td>\n",
       "      <td>32</td>\n",
       "      <td>12</td>\n",
       "      <td>9244</td>\n",
       "      <td>1296.273292</td>\n",
       "      <td>161.0</td>\n",
       "    </tr>\n",
       "    <tr>\n",
       "      <th>2909401</th>\n",
       "      <td>2015-10-14</td>\n",
       "      <td>33</td>\n",
       "      <td>12</td>\n",
       "      <td>20949</td>\n",
       "      <td>4.000000</td>\n",
       "      <td>500.0</td>\n",
       "    </tr>\n",
       "    <tr>\n",
       "      <th>2909818</th>\n",
       "      <td>2015-10-28</td>\n",
       "      <td>33</td>\n",
       "      <td>12</td>\n",
       "      <td>11373</td>\n",
       "      <td>0.908714</td>\n",
       "      <td>2169.0</td>\n",
       "    </tr>\n",
       "    <tr>\n",
       "      <th>2918705</th>\n",
       "      <td>2015-02-10</td>\n",
       "      <td>33</td>\n",
       "      <td>9</td>\n",
       "      <td>4201</td>\n",
       "      <td>399.000000</td>\n",
       "      <td>110.0</td>\n",
       "    </tr>\n",
       "  </tbody>\n",
       "</table>\n",
       "<p>105 rows × 6 columns</p>\n",
       "</div>"
      ],
      "text/plain": [
       "              date  date_block_num  shop_id  item_id   item_price  \\\n",
       "566159  2013-11-06               5       12     2808   999.000000   \n",
       "836296  2013-08-29               7       12     2808   999.000000   \n",
       "868495  2013-05-09               8       25     2808   999.000000   \n",
       "944059  2013-10-29               9       42     1849  1199.000000   \n",
       "949279  2013-10-29               9        6     1849  1199.000000   \n",
       "...            ...             ...      ...      ...          ...   \n",
       "2864262 2015-09-28              32       12     9248  1500.000000   \n",
       "2864264 2015-09-30              32       12     9244  1296.273292   \n",
       "2909401 2015-10-14              33       12    20949     4.000000   \n",
       "2909818 2015-10-28              33       12    11373     0.908714   \n",
       "2918705 2015-02-10              33        9     4201   399.000000   \n",
       "\n",
       "         item_cnt_day  \n",
       "566159          200.0  \n",
       "836296          150.0  \n",
       "868495          133.0  \n",
       "944059          113.0  \n",
       "949279          118.0  \n",
       "...               ...  \n",
       "2864262         139.0  \n",
       "2864264         161.0  \n",
       "2909401         500.0  \n",
       "2909818        2169.0  \n",
       "2918705         110.0  \n",
       "\n",
       "[105 rows x 6 columns]"
      ]
     },
     "execution_count": 16,
     "metadata": {},
     "output_type": "execute_result"
    }
   ],
   "source": [
    "# item_cnt_dayの外れ値処理\n",
    "train[train['item_cnt_day'] > 100]"
   ]
  },
  {
   "cell_type": "markdown",
   "metadata": {},
   "source": [
    "item_cnt_dayに1000以上の異常値がある  \n",
    "さらにitem_priceが異様に低い商品もある"
   ]
  },
  {
   "cell_type": "code",
   "execution_count": 19,
   "metadata": {},
   "outputs": [
    {
     "data": {
      "text/html": [
       "<div>\n",
       "<style scoped>\n",
       "    .dataframe tbody tr th:only-of-type {\n",
       "        vertical-align: middle;\n",
       "    }\n",
       "\n",
       "    .dataframe tbody tr th {\n",
       "        vertical-align: top;\n",
       "    }\n",
       "\n",
       "    .dataframe thead th {\n",
       "        text-align: right;\n",
       "    }\n",
       "</style>\n",
       "<table border=\"1\" class=\"dataframe\">\n",
       "  <thead>\n",
       "    <tr style=\"text-align: right;\">\n",
       "      <th></th>\n",
       "      <th>item_name</th>\n",
       "      <th>item_id</th>\n",
       "      <th>item_category_id</th>\n",
       "      <th>item_category_name</th>\n",
       "    </tr>\n",
       "  </thead>\n",
       "  <tbody>\n",
       "    <tr>\n",
       "      <th>21966</th>\n",
       "      <td>Доставка до пункта выдачи (Boxberry)</td>\n",
       "      <td>11373</td>\n",
       "      <td>9</td>\n",
       "      <td>Доставка товара</td>\n",
       "    </tr>\n",
       "  </tbody>\n",
       "</table>\n",
       "</div>"
      ],
      "text/plain": [
       "                                  item_name  item_id  item_category_id  \\\n",
       "21966  Доставка до пункта выдачи (Boxberry)    11373                 9   \n",
       "\n",
       "      item_category_name  \n",
       "21966    Доставка товара  "
      ]
     },
     "execution_count": 19,
     "metadata": {},
     "output_type": "execute_result"
    }
   ],
   "source": [
    "# item_priceが異様に低い商品について知りたいので、itemのカテゴリをマージ\n",
    "item_merge_df = pd.merge(item_df, item_cats_df, on='item_category_id', how='inner')\n",
    "item_merge_df[item_merge_df['item_id'] == 11373]"
   ]
  },
  {
   "cell_type": "code",
   "execution_count": 22,
   "metadata": {},
   "outputs": [
    {
     "data": {
      "text/html": [
       "<div>\n",
       "<style scoped>\n",
       "    .dataframe tbody tr th:only-of-type {\n",
       "        vertical-align: middle;\n",
       "    }\n",
       "\n",
       "    .dataframe tbody tr th {\n",
       "        vertical-align: top;\n",
       "    }\n",
       "\n",
       "    .dataframe thead th {\n",
       "        text-align: right;\n",
       "    }\n",
       "</style>\n",
       "<table border=\"1\" class=\"dataframe\">\n",
       "  <thead>\n",
       "    <tr style=\"text-align: right;\">\n",
       "      <th></th>\n",
       "      <th>date</th>\n",
       "      <th>date_block_num</th>\n",
       "      <th>shop_id</th>\n",
       "      <th>item_id</th>\n",
       "      <th>item_price</th>\n",
       "      <th>item_cnt_day</th>\n",
       "    </tr>\n",
       "  </thead>\n",
       "  <tbody>\n",
       "    <tr>\n",
       "      <th>58323</th>\n",
       "      <td>2013-08-01</td>\n",
       "      <td>0</td>\n",
       "      <td>12</td>\n",
       "      <td>11373</td>\n",
       "      <td>1000.00</td>\n",
       "      <td>1.0</td>\n",
       "    </tr>\n",
       "    <tr>\n",
       "      <th>58324</th>\n",
       "      <td>2013-01-31</td>\n",
       "      <td>0</td>\n",
       "      <td>12</td>\n",
       "      <td>11373</td>\n",
       "      <td>97.80</td>\n",
       "      <td>5.0</td>\n",
       "    </tr>\n",
       "    <tr>\n",
       "      <th>176790</th>\n",
       "      <td>2013-01-02</td>\n",
       "      <td>1</td>\n",
       "      <td>12</td>\n",
       "      <td>11373</td>\n",
       "      <td>229.00</td>\n",
       "      <td>1.0</td>\n",
       "    </tr>\n",
       "    <tr>\n",
       "      <th>176791</th>\n",
       "      <td>2013-04-02</td>\n",
       "      <td>1</td>\n",
       "      <td>12</td>\n",
       "      <td>11373</td>\n",
       "      <td>130.00</td>\n",
       "      <td>1.0</td>\n",
       "    </tr>\n",
       "    <tr>\n",
       "      <th>302468</th>\n",
       "      <td>2013-03-29</td>\n",
       "      <td>2</td>\n",
       "      <td>12</td>\n",
       "      <td>11373</td>\n",
       "      <td>139.50</td>\n",
       "      <td>2.0</td>\n",
       "    </tr>\n",
       "    <tr>\n",
       "      <th>...</th>\n",
       "      <td>...</td>\n",
       "      <td>...</td>\n",
       "      <td>...</td>\n",
       "      <td>...</td>\n",
       "      <td>...</td>\n",
       "      <td>...</td>\n",
       "    </tr>\n",
       "    <tr>\n",
       "      <th>2909829</th>\n",
       "      <td>2015-07-10</td>\n",
       "      <td>33</td>\n",
       "      <td>12</td>\n",
       "      <td>11373</td>\n",
       "      <td>855.00</td>\n",
       "      <td>2.0</td>\n",
       "    </tr>\n",
       "    <tr>\n",
       "      <th>2909830</th>\n",
       "      <td>2015-06-10</td>\n",
       "      <td>33</td>\n",
       "      <td>12</td>\n",
       "      <td>11373</td>\n",
       "      <td>208.80</td>\n",
       "      <td>5.0</td>\n",
       "    </tr>\n",
       "    <tr>\n",
       "      <th>2909831</th>\n",
       "      <td>2015-05-10</td>\n",
       "      <td>33</td>\n",
       "      <td>12</td>\n",
       "      <td>11373</td>\n",
       "      <td>140.75</td>\n",
       "      <td>16.0</td>\n",
       "    </tr>\n",
       "    <tr>\n",
       "      <th>2909832</th>\n",
       "      <td>2015-02-10</td>\n",
       "      <td>33</td>\n",
       "      <td>12</td>\n",
       "      <td>11373</td>\n",
       "      <td>648.50</td>\n",
       "      <td>2.0</td>\n",
       "    </tr>\n",
       "    <tr>\n",
       "      <th>2909856</th>\n",
       "      <td>2015-01-10</td>\n",
       "      <td>33</td>\n",
       "      <td>12</td>\n",
       "      <td>11373</td>\n",
       "      <td>361.25</td>\n",
       "      <td>4.0</td>\n",
       "    </tr>\n",
       "  </tbody>\n",
       "</table>\n",
       "<p>463 rows × 6 columns</p>\n",
       "</div>"
      ],
      "text/plain": [
       "              date  date_block_num  shop_id  item_id  item_price  item_cnt_day\n",
       "58323   2013-08-01               0       12    11373     1000.00           1.0\n",
       "58324   2013-01-31               0       12    11373       97.80           5.0\n",
       "176790  2013-01-02               1       12    11373      229.00           1.0\n",
       "176791  2013-04-02               1       12    11373      130.00           1.0\n",
       "302468  2013-03-29               2       12    11373      139.50           2.0\n",
       "...            ...             ...      ...      ...         ...           ...\n",
       "2909829 2015-07-10              33       12    11373      855.00           2.0\n",
       "2909830 2015-06-10              33       12    11373      208.80           5.0\n",
       "2909831 2015-05-10              33       12    11373      140.75          16.0\n",
       "2909832 2015-02-10              33       12    11373      648.50           2.0\n",
       "2909856 2015-01-10              33       12    11373      361.25           4.0\n",
       "\n",
       "[463 rows x 6 columns]"
      ]
     },
     "execution_count": 22,
     "metadata": {},
     "output_type": "execute_result"
    }
   ],
   "source": [
    "# 価格はsales_train_dfにしかないので、そちらを確認\n",
    "train[train['item_id'] == 11373]"
   ]
  },
  {
   "cell_type": "markdown",
   "metadata": {},
   "source": [
    "商品の価格は変わる"
   ]
  },
  {
   "cell_type": "code",
   "execution_count": 29,
   "metadata": {},
   "outputs": [
    {
     "data": {
      "text/html": [
       "<div>\n",
       "<style scoped>\n",
       "    .dataframe tbody tr th:only-of-type {\n",
       "        vertical-align: middle;\n",
       "    }\n",
       "\n",
       "    .dataframe tbody tr th {\n",
       "        vertical-align: top;\n",
       "    }\n",
       "\n",
       "    .dataframe thead th {\n",
       "        text-align: right;\n",
       "    }\n",
       "</style>\n",
       "<table border=\"1\" class=\"dataframe\">\n",
       "  <thead>\n",
       "    <tr style=\"text-align: right;\">\n",
       "      <th></th>\n",
       "      <th>item_name</th>\n",
       "      <th>item_category_name</th>\n",
       "      <th>item_id</th>\n",
       "      <th>date</th>\n",
       "      <th>item_price</th>\n",
       "    </tr>\n",
       "  </thead>\n",
       "  <tbody>\n",
       "    <tr>\n",
       "      <th>0</th>\n",
       "      <td>! ВО ВЛАСТИ НАВАЖДЕНИЯ (ПЛАСТ.)         D</td>\n",
       "      <td>Кино - DVD</td>\n",
       "      <td>0</td>\n",
       "      <td>2014-01-09</td>\n",
       "      <td>58.0</td>\n",
       "    </tr>\n",
       "    <tr>\n",
       "      <th>1</th>\n",
       "      <td>***В ЛУЧАХ СЛАВЫ   (UNV)                    D</td>\n",
       "      <td>Кино - DVD</td>\n",
       "      <td>2</td>\n",
       "      <td>2014-08-24</td>\n",
       "      <td>58.0</td>\n",
       "    </tr>\n",
       "    <tr>\n",
       "      <th>2</th>\n",
       "      <td>***В ЛУЧАХ СЛАВЫ   (UNV)                    D</td>\n",
       "      <td>Кино - DVD</td>\n",
       "      <td>2</td>\n",
       "      <td>2014-12-11</td>\n",
       "      <td>58.0</td>\n",
       "    </tr>\n",
       "    <tr>\n",
       "      <th>3</th>\n",
       "      <td>***ГОЛУБАЯ ВОЛНА  (Univ)                      D</td>\n",
       "      <td>Кино - DVD</td>\n",
       "      <td>3</td>\n",
       "      <td>2014-05-07</td>\n",
       "      <td>100.0</td>\n",
       "    </tr>\n",
       "    <tr>\n",
       "      <th>4</th>\n",
       "      <td>***ГОЛУБАЯ ВОЛНА  (Univ)                      D</td>\n",
       "      <td>Кино - DVD</td>\n",
       "      <td>3</td>\n",
       "      <td>2014-08-26</td>\n",
       "      <td>58.0</td>\n",
       "    </tr>\n",
       "  </tbody>\n",
       "</table>\n",
       "</div>"
      ],
      "text/plain": [
       "                                         item_name item_category_name  \\\n",
       "0        ! ВО ВЛАСТИ НАВАЖДЕНИЯ (ПЛАСТ.)         D         Кино - DVD   \n",
       "1    ***В ЛУЧАХ СЛАВЫ   (UNV)                    D         Кино - DVD   \n",
       "2    ***В ЛУЧАХ СЛАВЫ   (UNV)                    D         Кино - DVD   \n",
       "3  ***ГОЛУБАЯ ВОЛНА  (Univ)                      D         Кино - DVD   \n",
       "4  ***ГОЛУБАЯ ВОЛНА  (Univ)                      D         Кино - DVD   \n",
       "\n",
       "   item_id       date  item_price  \n",
       "0        0 2014-01-09        58.0  \n",
       "1        2 2014-08-24        58.0  \n",
       "2        2 2014-12-11        58.0  \n",
       "3        3 2014-05-07       100.0  \n",
       "4        3 2014-08-26        58.0  "
      ]
     },
     "execution_count": 29,
     "metadata": {},
     "output_type": "execute_result"
    }
   ],
   "source": [
    "# 商品名、カテゴリ名、日付、価格のdataframeを作成\n",
    "item_price_df = pd.merge(item_merge_df[['item_name', 'item_category_name', 'item_id']], \n",
    "                         train[['date', 'item_price', 'item_id']],\n",
    "                         on='item_id',\n",
    "                         how='inner')\n",
    "item_price_df.head()"
   ]
  },
  {
   "cell_type": "code",
   "execution_count": null,
   "metadata": {},
   "outputs": [],
   "source": []
  }
 ],
 "metadata": {
  "kernelspec": {
   "display_name": "Python 3",
   "language": "python",
   "name": "python3"
  },
  "language_info": {
   "codemirror_mode": {
    "name": "ipython",
    "version": 3
   },
   "file_extension": ".py",
   "mimetype": "text/x-python",
   "name": "python",
   "nbconvert_exporter": "python",
   "pygments_lexer": "ipython3",
   "version": "3.7.6"
  },
  "widgets": {
   "application/vnd.jupyter.widget-state+json": {
    "state": {},
    "version_major": 2,
    "version_minor": 0
   }
  }
 },
 "nbformat": 4,
 "nbformat_minor": 4
}
