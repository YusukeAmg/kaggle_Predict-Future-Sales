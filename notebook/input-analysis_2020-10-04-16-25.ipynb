{
 "cells": [
  {
   "cell_type": "code",
   "execution_count": 77,
   "metadata": {},
   "outputs": [],
   "source": [
    "import numpy as np\n",
    "import pandas as pd"
   ]
  },
  {
   "cell_type": "code",
   "execution_count": 78,
   "metadata": {},
   "outputs": [],
   "source": [
    "item_cats_df = pd.read_csv('../data/input/item_categories.csv')\n",
    "item_df = pd.read_csv('../data/input/items.csv')\n",
    "sales_train_df = pd.read_csv('../data/input/sales_train.csv')\n",
    "sample_submission_df = pd.read_csv('../data/input/sample_submission.csv')\n",
    "shops_df = pd.read_csv('../data/input/shops.csv')\n",
    "\n",
    "test = pd.read_csv('../data/input/test.csv')"
   ]
  },
  {
   "cell_type": "markdown",
   "metadata": {},
   "source": [
    "date_block_num:連続した月の番号。　2013年1月=0, 2013年2月=1, ..., 2015年10月=33  \n",
    "item_cnt_day:商品の売れた数。目的変数。  \n",
    "item_id:商品個別の識別子  "
   ]
  },
  {
   "cell_type": "code",
   "execution_count": 79,
   "metadata": {},
   "outputs": [
    {
     "data": {
      "text/html": [
       "<div>\n",
       "<style scoped>\n",
       "    .dataframe tbody tr th:only-of-type {\n",
       "        vertical-align: middle;\n",
       "    }\n",
       "\n",
       "    .dataframe tbody tr th {\n",
       "        vertical-align: top;\n",
       "    }\n",
       "\n",
       "    .dataframe thead th {\n",
       "        text-align: right;\n",
       "    }\n",
       "</style>\n",
       "<table border=\"1\" class=\"dataframe\">\n",
       "  <thead>\n",
       "    <tr style=\"text-align: right;\">\n",
       "      <th></th>\n",
       "      <th>item_id</th>\n",
       "      <th>item_category_id</th>\n",
       "      <th>date</th>\n",
       "      <th>date_block_num</th>\n",
       "      <th>shop_id</th>\n",
       "      <th>item_price</th>\n",
       "      <th>item_cnt_day</th>\n",
       "    </tr>\n",
       "  </thead>\n",
       "  <tbody>\n",
       "    <tr>\n",
       "      <th>0</th>\n",
       "      <td>0</td>\n",
       "      <td>40</td>\n",
       "      <td>01.09.2014</td>\n",
       "      <td>20</td>\n",
       "      <td>54</td>\n",
       "      <td>58.0</td>\n",
       "      <td>1.0</td>\n",
       "    </tr>\n",
       "    <tr>\n",
       "      <th>1</th>\n",
       "      <td>2</td>\n",
       "      <td>40</td>\n",
       "      <td>24.08.2014</td>\n",
       "      <td>19</td>\n",
       "      <td>54</td>\n",
       "      <td>58.0</td>\n",
       "      <td>1.0</td>\n",
       "    </tr>\n",
       "    <tr>\n",
       "      <th>2</th>\n",
       "      <td>2</td>\n",
       "      <td>40</td>\n",
       "      <td>12.11.2014</td>\n",
       "      <td>22</td>\n",
       "      <td>54</td>\n",
       "      <td>58.0</td>\n",
       "      <td>1.0</td>\n",
       "    </tr>\n",
       "    <tr>\n",
       "      <th>3</th>\n",
       "      <td>3</td>\n",
       "      <td>40</td>\n",
       "      <td>05.07.2014</td>\n",
       "      <td>18</td>\n",
       "      <td>54</td>\n",
       "      <td>100.0</td>\n",
       "      <td>1.0</td>\n",
       "    </tr>\n",
       "    <tr>\n",
       "      <th>4</th>\n",
       "      <td>3</td>\n",
       "      <td>40</td>\n",
       "      <td>26.08.2014</td>\n",
       "      <td>19</td>\n",
       "      <td>54</td>\n",
       "      <td>58.0</td>\n",
       "      <td>1.0</td>\n",
       "    </tr>\n",
       "    <tr>\n",
       "      <th>5</th>\n",
       "      <td>4</td>\n",
       "      <td>40</td>\n",
       "      <td>19.09.2014</td>\n",
       "      <td>20</td>\n",
       "      <td>54</td>\n",
       "      <td>58.0</td>\n",
       "      <td>1.0</td>\n",
       "    </tr>\n",
       "    <tr>\n",
       "      <th>6</th>\n",
       "      <td>5</td>\n",
       "      <td>40</td>\n",
       "      <td>14.12.2014</td>\n",
       "      <td>23</td>\n",
       "      <td>54</td>\n",
       "      <td>28.0</td>\n",
       "      <td>1.0</td>\n",
       "    </tr>\n",
       "    <tr>\n",
       "      <th>7</th>\n",
       "      <td>6</td>\n",
       "      <td>40</td>\n",
       "      <td>19.07.2014</td>\n",
       "      <td>18</td>\n",
       "      <td>54</td>\n",
       "      <td>100.0</td>\n",
       "      <td>1.0</td>\n",
       "    </tr>\n",
       "    <tr>\n",
       "      <th>8</th>\n",
       "      <td>7</td>\n",
       "      <td>40</td>\n",
       "      <td>14.12.2014</td>\n",
       "      <td>23</td>\n",
       "      <td>54</td>\n",
       "      <td>28.0</td>\n",
       "      <td>1.0</td>\n",
       "    </tr>\n",
       "    <tr>\n",
       "      <th>9</th>\n",
       "      <td>8</td>\n",
       "      <td>40</td>\n",
       "      <td>26.08.2014</td>\n",
       "      <td>19</td>\n",
       "      <td>54</td>\n",
       "      <td>58.0</td>\n",
       "      <td>1.0</td>\n",
       "    </tr>\n",
       "  </tbody>\n",
       "</table>\n",
       "</div>"
      ],
      "text/plain": [
       "   item_id  item_category_id        date  date_block_num  shop_id  item_price  \\\n",
       "0        0                40  01.09.2014              20       54        58.0   \n",
       "1        2                40  24.08.2014              19       54        58.0   \n",
       "2        2                40  12.11.2014              22       54        58.0   \n",
       "3        3                40  05.07.2014              18       54       100.0   \n",
       "4        3                40  26.08.2014              19       54        58.0   \n",
       "5        4                40  19.09.2014              20       54        58.0   \n",
       "6        5                40  14.12.2014              23       54        28.0   \n",
       "7        6                40  19.07.2014              18       54       100.0   \n",
       "8        7                40  14.12.2014              23       54        28.0   \n",
       "9        8                40  26.08.2014              19       54        58.0   \n",
       "\n",
       "   item_cnt_day  \n",
       "0           1.0  \n",
       "1           1.0  \n",
       "2           1.0  \n",
       "3           1.0  \n",
       "4           1.0  \n",
       "5           1.0  \n",
       "6           1.0  \n",
       "7           1.0  \n",
       "8           1.0  \n",
       "9           1.0  "
      ]
     },
     "metadata": {},
     "output_type": "display_data"
    }
   ],
   "source": [
    "item_merge_df = pd.merge(item_df, item_cats_df, on='item_category_id', how='inner')\n",
    "\n",
    "# 商品名、カテゴリ名、日付、価格のdataframeを作成\n",
    "item_price_df = pd.merge(item_merge_df, sales_train_df, on='item_id', how='inner')\n",
    "\n",
    "train = item_price_df.drop(['item_name', 'item_category_name'], axis=1)\n",
    "display(train.head(10))"
   ]
  },
  {
   "cell_type": "markdown",
   "metadata": {},
   "source": [
    "# 前処理"
   ]
  },
  {
   "cell_type": "code",
   "execution_count": 80,
   "metadata": {},
   "outputs": [],
   "source": [
    "train = sales_train_df.copy()\n",
    "# 日付型に変換\n",
    "train['date'] = pd.to_datetime(train['date'])\n",
    "# 負の値を除去\n",
    "train = train[train['item_price'] > 0].copy()\n",
    "train = train[train['item_cnt_day'] > 0].copy()"
   ]
  },
  {
   "cell_type": "markdown",
   "metadata": {},
   "source": [
    "# 外れ値の確認"
   ]
  },
  {
   "cell_type": "code",
   "execution_count": 81,
   "metadata": {},
   "outputs": [
    {
     "data": {
      "image/png": "[encoded data removed]",
      "text/plain": [
       "<Figure size 432x288 with 1 Axes>"
      ]
     },
     "metadata": {
      "needs_background": "light"
     },
     "output_type": "display_data"
    },
    {
     "data": {
      "image/png": "[encoded data removed]",
      "text/plain": [
       "<Figure size 432x288 with 1 Axes>"
      ]
     },
     "metadata": {
      "needs_background": "light"
     },
     "output_type": "display_data"
    },
    {
     "data": {
      "image/png": "[encoded data removed]",
      "text/plain": [
       "<Figure size 432x288 with 1 Axes>"
      ]
     },
     "metadata": {
      "needs_background": "light"
     },
     "output_type": "display_data"
    }
   ],
   "source": [
    "# 外れ値の確認\n",
    "import matplotlib.pyplot as plt\n",
    "train[['item_price', 'item_cnt_day']].plot.box()\n",
    "plt.show()\n",
    "train[['item_price']].boxplot()\n",
    "plt.show()\n",
    "train[['item_cnt_day']].boxplot()\n",
    "plt.show()"
   ]
  },
  {
   "cell_type": "markdown",
   "metadata": {},
   "source": [
    "# 外れ値の除去"
   ]
  },
  {
   "cell_type": "code",
   "execution_count": 82,
   "metadata": {},
   "outputs": [
    {
     "name": "stdout",
     "output_type": "stream",
     "text": [
      "outliner min\n",
      "\tquantile: -876.0\n",
      "\tstd: -2565.5304132166502\n",
      "outliner max\n",
      "\tquantile: 2124.0\n",
      "\tstd: 4344.463915758676\n",
      "remain number\n",
      "outliner min\n",
      "\tquantile:  2928492\n",
      "\tstd:  2928492\n",
      "outliner max\n",
      "\tquantile:  2670894\n",
      "\tstd:  2886128\n"
     ]
    }
   ],
   "source": [
    "# item_priceの外れ値処理\n",
    "# 四分位範囲\n",
    "q1 = train['item_price'].quantile(0.25)\n",
    "q3 = train['item_price'].quantile(0.75)\n",
    "iqr = q3 - q1# box_size\n",
    "outliner_max1 = q3 + iqr * 1.5\n",
    "outliner_min1 = q1 - iqr * 1.5\n",
    "\n",
    "# 標準偏差\n",
    "outliner_max2 = train['item_price'].mean() + train['item_price'].std() * 2\n",
    "outliner_min2 = train['item_price'].mean() - train['item_price'].std() * 2\n",
    "\n",
    "print('outliner min')\n",
    "print('\\tquantile:', outliner_min1)\n",
    "print('\\tstd:', outliner_min2)\n",
    "\n",
    "print('outliner max')\n",
    "print('\\tquantile:', outliner_max1)\n",
    "print('\\tstd:', outliner_max2)\n",
    "\n",
    "print('remain number')\n",
    "print('outliner min')\n",
    "print('\\tquantile: ', len(train[train['item_price'] > outliner_min1]))\n",
    "print('\\tstd: ', len(train[train['item_price'] > outliner_min2]))\n",
    "print('outliner max')\n",
    "print('\\tquantile: ', len(train[train['item_price'] < outliner_max1]))\n",
    "print('\\tstd: ', len(train[train['item_price'] < outliner_max2]))"
   ]
  },
  {
   "cell_type": "code",
   "execution_count": 83,
   "metadata": {},
   "outputs": [
    {
     "data": {
      "text/plain": [
       "<matplotlib.axes._subplots.AxesSubplot at 0x7f4693a74ad0>"
      ]
     },
     "execution_count": 83,
     "metadata": {},
     "output_type": "execute_result"
    },
    {
     "data": {
      "image/png": "[encoded data removed]",
      "text/plain": [
       "<Figure size 432x288 with 1 Axes>"
      ]
     },
     "metadata": {
      "needs_background": "light"
     },
     "output_type": "display_data"
    }
   ],
   "source": [
    "train[train['item_price'] < outliner_max2].item_price.plot.box()"
   ]
  },
  {
   "cell_type": "code",
   "execution_count": 84,
   "metadata": {},
   "outputs": [],
   "source": [
    "train = train[train['item_price'] < outliner_max2].copy()"
   ]
  },
  {
   "cell_type": "code",
   "execution_count": 85,
   "metadata": {},
   "outputs": [
    {
     "name": "stdout",
     "output_type": "stream",
     "text": [
      "outliner min\n",
      "\tquantile: 1.0\n",
      "\tstandard dev: -3.9985223565419497\n",
      "outliner max\n",
      "\tquantile: 1.0\n",
      "\tstandard dev: 6.49244362406716\n",
      "remain number\n",
      "outliner min\n",
      "\tquantile:  293922\n",
      "\tstandard dev:  2886128\n",
      "outliner max\n",
      "\tquantile:  0\n",
      "\tstandard dev:  2865501\n"
     ]
    }
   ],
   "source": [
    "# item_cnt_dayの外れ値処理\n",
    "# 四分位範囲\n",
    "q1 = train['item_cnt_day'].quantile(0.25)\n",
    "q3 = train['item_cnt_day'].quantile(0.75)\n",
    "iqr = q3 - q1# box_size\n",
    "outliner_max1 = q3 + iqr * 1.5\n",
    "outliner_min1 = q1 - iqr * 1.5\n",
    "\n",
    "# 標準偏差\n",
    "outliner_max2 = train['item_cnt_day'].mean() + train['item_cnt_day'].std() * 2\n",
    "outliner_min2 = train['item_cnt_day'].mean() - train['item_cnt_day'].std() * 2\n",
    "\n",
    "print('outliner min')\n",
    "print('\\tquantile:', outliner_min1)\n",
    "print('\\tstandard dev:', outliner_min2)\n",
    "\n",
    "print('outliner max')\n",
    "print('\\tquantile:', outliner_max1)\n",
    "print('\\tstandard dev:', outliner_max2)\n",
    "\n",
    "print('remain number')\n",
    "print('outliner min')\n",
    "print('\\tquantile: ', len(train[train['item_cnt_day'] > outliner_min1]))\n",
    "print('\\tstandard dev: ', len(train[train['item_cnt_day'] > outliner_min2]))\n",
    "print('outliner max')\n",
    "print('\\tquantile: ', len(train[train['item_cnt_day'] < outliner_max1]))\n",
    "print('\\tstandard dev: ', len(train[train['item_cnt_day'] < outliner_max2]))"
   ]
  },
  {
   "cell_type": "code",
   "execution_count": 86,
   "metadata": {},
   "outputs": [
    {
     "name": "stdout",
     "output_type": "stream",
     "text": [
      "2865501\n"
     ]
    },
    {
     "data": {
      "image/png": "[encoded data removed]",
      "text/plain": [
       "<Figure size 432x288 with 1 Axes>"
      ]
     },
     "metadata": {
      "needs_background": "light"
     },
     "output_type": "display_data"
    }
   ],
   "source": [
    "# 四分位範囲を使うと要素がなくなってしまう\n",
    "# 標準偏差を使って、外れ値処理\n",
    "train[train['item_cnt_day'] < outliner_max2].item_cnt_day.plot.box()\n",
    "print(len(train[train['item_cnt_day'] < outliner_max2].item_cnt_day))"
   ]
  },
  {
   "cell_type": "code",
   "execution_count": 87,
   "metadata": {},
   "outputs": [],
   "source": [
    "train = train[train['item_cnt_day'] < outliner_max2].copy()"
   ]
  },
  {
   "cell_type": "markdown",
   "metadata": {},
   "source": [
    "# データ確認"
   ]
  },
  {
   "cell_type": "code",
   "execution_count": 88,
   "metadata": {},
   "outputs": [
    {
     "data": {
      "text/plain": [
       "<matplotlib.axes._subplots.AxesSubplot at 0x7f46a9ee1510>"
      ]
     },
     "execution_count": 88,
     "metadata": {},
     "output_type": "execute_result"
    },
    {
     "data": {
      "image/png": "[encoded data removed]",
      "text/plain": [
       "<Figure size 432x288 with 1 Axes>"
      ]
     },
     "metadata": {
      "needs_background": "light"
     },
     "output_type": "display_data"
    }
   ],
   "source": [
    "# 曜日を追加\n",
    "# Sun:0, Mon:1, Tue:2, Wed:3, Thu:4, Fri:5, Sat:6\n",
    "train['week'] = train['date'].dt.dayofweek\n",
    "\n",
    "# 曜日毎の売上数\n",
    "train.groupby('week').\\\n",
    "item_cnt_day.sum().reset_index().item_cnt_day.plot.bar()\n",
    "\n",
    "# 1か月の合計を予測すればよいので、あくまで確認だけ"
   ]
  },
  {
   "cell_type": "code",
   "execution_count": 101,
   "metadata": {},
   "outputs": [
    {
     "data": {
      "text/plain": [
       "<matplotlib.axes._subplots.AxesSubplot at 0x7f46a6ea47d0>"
      ]
     },
     "execution_count": 101,
     "metadata": {},
     "output_type": "execute_result"
    },
    {
     "data": {
      "image/png": "[encoded data removed]",
      "text/plain": [
       "<Figure size 648x432 with 1 Axes>"
      ]
     },
     "metadata": {
      "needs_background": "light"
     },
     "output_type": "display_data"
    }
   ],
   "source": [
    "# 月ごとの売上数\n",
    "train.groupby('date_block_num').\\\n",
    "item_cnt_day.sum().reset_index().item_cnt_day.plot(style='o-', figsize=(9, 6), grid=True)"
   ]
  },
  {
   "cell_type": "code",
   "execution_count": 102,
   "metadata": {},
   "outputs": [
    {
     "data": {
      "text/plain": [
       "<matplotlib.axes._subplots.AxesSubplot at 0x7f46a2aec110>"
      ]
     },
     "execution_count": 102,
     "metadata": {},
     "output_type": "execute_result"
    },
    {
     "data": {
      "image/png": "[encoded data removed]",
      "text/plain": [
       "<Figure size 648x432 with 1 Axes>"
      ]
     },
     "metadata": {
      "needs_background": "light"
     },
     "output_type": "display_data"
    }
   ],
   "source": [
    "# 月を追加\n",
    "train['month'] = train['date'].dt.month\n",
    "train.groupby('month').\\\n",
    "item_cnt_day.sum().reset_index().item_cnt_day.plot(style='o-', figsize=(9,6), grid=True)"
   ]
  },
  {
   "cell_type": "code",
   "execution_count": 94,
   "metadata": {},
   "outputs": [
    {
     "data": {
      "text/html": [
       "<div>\n",
       "<style scoped>\n",
       "    .dataframe tbody tr th:only-of-type {\n",
       "        vertical-align: middle;\n",
       "    }\n",
       "\n",
       "    .dataframe tbody tr th {\n",
       "        vertical-align: top;\n",
       "    }\n",
       "\n",
       "    .dataframe thead th {\n",
       "        text-align: right;\n",
       "    }\n",
       "</style>\n",
       "<table border=\"1\" class=\"dataframe\">\n",
       "  <thead>\n",
       "    <tr style=\"text-align: right;\">\n",
       "      <th></th>\n",
       "      <th>date</th>\n",
       "      <th>date_block_num</th>\n",
       "      <th>shop_id</th>\n",
       "      <th>item_id</th>\n",
       "      <th>item_price</th>\n",
       "      <th>item_cnt_day</th>\n",
       "      <th>week</th>\n",
       "      <th>month</th>\n",
       "    </tr>\n",
       "  </thead>\n",
       "  <tbody>\n",
       "    <tr>\n",
       "      <th>0</th>\n",
       "      <td>2013-01-01</td>\n",
       "      <td>0</td>\n",
       "      <td>7</td>\n",
       "      <td>6495</td>\n",
       "      <td>699.0</td>\n",
       "      <td>1.0</td>\n",
       "      <td>1</td>\n",
       "      <td>1</td>\n",
       "    </tr>\n",
       "    <tr>\n",
       "      <th>1</th>\n",
       "      <td>2013-01-01</td>\n",
       "      <td>0</td>\n",
       "      <td>54</td>\n",
       "      <td>19736</td>\n",
       "      <td>149.0</td>\n",
       "      <td>1.0</td>\n",
       "      <td>1</td>\n",
       "      <td>1</td>\n",
       "    </tr>\n",
       "    <tr>\n",
       "      <th>2</th>\n",
       "      <td>2013-01-01</td>\n",
       "      <td>0</td>\n",
       "      <td>51</td>\n",
       "      <td>5822</td>\n",
       "      <td>884.0</td>\n",
       "      <td>2.0</td>\n",
       "      <td>1</td>\n",
       "      <td>1</td>\n",
       "    </tr>\n",
       "    <tr>\n",
       "      <th>3</th>\n",
       "      <td>2013-01-01</td>\n",
       "      <td>0</td>\n",
       "      <td>37</td>\n",
       "      <td>5580</td>\n",
       "      <td>399.0</td>\n",
       "      <td>1.0</td>\n",
       "      <td>1</td>\n",
       "      <td>1</td>\n",
       "    </tr>\n",
       "    <tr>\n",
       "      <th>4</th>\n",
       "      <td>2013-01-01</td>\n",
       "      <td>0</td>\n",
       "      <td>37</td>\n",
       "      <td>4901</td>\n",
       "      <td>1699.0</td>\n",
       "      <td>1.0</td>\n",
       "      <td>1</td>\n",
       "      <td>1</td>\n",
       "    </tr>\n",
       "    <tr>\n",
       "      <th>...</th>\n",
       "      <td>...</td>\n",
       "      <td>...</td>\n",
       "      <td>...</td>\n",
       "      <td>...</td>\n",
       "      <td>...</td>\n",
       "      <td>...</td>\n",
       "      <td>...</td>\n",
       "      <td>...</td>\n",
       "    </tr>\n",
       "    <tr>\n",
       "      <th>2865496</th>\n",
       "      <td>2015-12-10</td>\n",
       "      <td>33</td>\n",
       "      <td>24</td>\n",
       "      <td>7087</td>\n",
       "      <td>999.0</td>\n",
       "      <td>1.0</td>\n",
       "      <td>3</td>\n",
       "      <td>12</td>\n",
       "    </tr>\n",
       "    <tr>\n",
       "      <th>2865497</th>\n",
       "      <td>2015-12-10</td>\n",
       "      <td>33</td>\n",
       "      <td>7</td>\n",
       "      <td>10210</td>\n",
       "      <td>3499.0</td>\n",
       "      <td>1.0</td>\n",
       "      <td>3</td>\n",
       "      <td>12</td>\n",
       "    </tr>\n",
       "    <tr>\n",
       "      <th>2865498</th>\n",
       "      <td>2015-12-10</td>\n",
       "      <td>33</td>\n",
       "      <td>26</td>\n",
       "      <td>15256</td>\n",
       "      <td>399.0</td>\n",
       "      <td>1.0</td>\n",
       "      <td>3</td>\n",
       "      <td>12</td>\n",
       "    </tr>\n",
       "    <tr>\n",
       "      <th>2865499</th>\n",
       "      <td>2015-12-10</td>\n",
       "      <td>33</td>\n",
       "      <td>7</td>\n",
       "      <td>9404</td>\n",
       "      <td>199.0</td>\n",
       "      <td>1.0</td>\n",
       "      <td>3</td>\n",
       "      <td>12</td>\n",
       "    </tr>\n",
       "    <tr>\n",
       "      <th>2865500</th>\n",
       "      <td>2015-12-10</td>\n",
       "      <td>33</td>\n",
       "      <td>6</td>\n",
       "      <td>7393</td>\n",
       "      <td>349.0</td>\n",
       "      <td>1.0</td>\n",
       "      <td>3</td>\n",
       "      <td>12</td>\n",
       "    </tr>\n",
       "  </tbody>\n",
       "</table>\n",
       "<p>2865501 rows × 8 columns</p>\n",
       "</div>"
      ],
      "text/plain": [
       "              date  date_block_num  shop_id  item_id  item_price  \\\n",
       "0       2013-01-01               0        7     6495       699.0   \n",
       "1       2013-01-01               0       54    19736       149.0   \n",
       "2       2013-01-01               0       51     5822       884.0   \n",
       "3       2013-01-01               0       37     5580       399.0   \n",
       "4       2013-01-01               0       37     4901      1699.0   \n",
       "...            ...             ...      ...      ...         ...   \n",
       "2865496 2015-12-10              33       24     7087       999.0   \n",
       "2865497 2015-12-10              33        7    10210      3499.0   \n",
       "2865498 2015-12-10              33       26    15256       399.0   \n",
       "2865499 2015-12-10              33        7     9404       199.0   \n",
       "2865500 2015-12-10              33        6     7393       349.0   \n",
       "\n",
       "         item_cnt_day  week  month  \n",
       "0                 1.0     1      1  \n",
       "1                 1.0     1      1  \n",
       "2                 2.0     1      1  \n",
       "3                 1.0     1      1  \n",
       "4                 1.0     1      1  \n",
       "...               ...   ...    ...  \n",
       "2865496           1.0     3     12  \n",
       "2865497           1.0     3     12  \n",
       "2865498           1.0     3     12  \n",
       "2865499           1.0     3     12  \n",
       "2865500           1.0     3     12  \n",
       "\n",
       "[2865501 rows x 8 columns]"
      ]
     },
     "execution_count": 94,
     "metadata": {},
     "output_type": "execute_result"
    }
   ],
   "source": [
    "# 日付順に整列\n",
    "train.sort_values('date', ascending=True, inplace=True)\n",
    "train.reset_index(drop=True)"
   ]
  },
  {
   "cell_type": "code",
   "execution_count": null,
   "metadata": {},
   "outputs": [],
   "source": []
  }
 ],
 "metadata": {
  "kernelspec": {
   "display_name": "Python 3",
   "language": "python",
   "name": "python3"
  },
  "language_info": {
   "codemirror_mode": {
    "name": "ipython",
    "version": 3
   },
   "file_extension": ".py",
   "mimetype": "text/x-python",
   "name": "python",
   "nbconvert_exporter": "python",
   "pygments_lexer": "ipython3",
   "version": "3.7.6"
  },
  "widgets": {
   "application/vnd.jupyter.widget-state+json": {
    "state": {},
    "version_major": 2,
    "version_minor": 0
   }
  }
 },
 "nbformat": 4,
 "nbformat_minor": 4
}
