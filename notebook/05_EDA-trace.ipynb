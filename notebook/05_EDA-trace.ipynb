{
 "cells": [
  {
   "cell_type": "code",
   "execution_count": 87,
   "metadata": {},
   "outputs": [],
   "source": [
    "# basic\n",
    "import numpy as np\n",
    "import pandas as pd\n",
    "import matplotlib.pyplot as plt\n",
    "from itertools import product\n",
    "\n",
    "# plot\n",
    "import seaborn as sns\n",
    "import matplotlib.pyplot as plt\n",
    "\n",
    "# preprocess\n",
    "from sklearn.preprocessing import LabelEncoder\n",
    "\n",
    "# model\n",
    "import lightgbm as lgb\n",
    "\n",
    "# other\n",
    "import time\n",
    "import sys\n",
    "import gc"
   ]
  },
  {
   "cell_type": "code",
   "execution_count": 7,
   "metadata": {},
   "outputs": [],
   "source": [
    "items = pd.read_csv('../data/input/items.csv')\n",
    "shops = pd.read_csv('../data/input/shops.csv')\n",
    "cats = pd.read_csv('../data/input/item_categories.csv')\n",
    "train = pd.read_csv('../data/input/sales_train.csv')"
   ]
  },
  {
   "cell_type": "code",
   "execution_count": 71,
   "metadata": {},
   "outputs": [],
   "source": [
    "# set index to ID to avoid droping it later\n",
    "test  = pd.read_csv('../data/input/test.csv').set_index('ID')"
   ]
  },
  {
   "cell_type": "markdown",
   "metadata": {},
   "source": [
    "# preprocess train"
   ]
  },
  {
   "cell_type": "code",
   "execution_count": 8,
   "metadata": {},
   "outputs": [],
   "source": [
    "# processing outlier, negative value\n",
    "train = train[train.item_cnt_day < 100000]\n",
    "train = train[train.item_price < 1250]\n",
    "\n",
    "median = train[(train.shop_id==32)&\\\n",
    "                     (train.item_id==2973)&\\\n",
    "                     (train.date_block_num==4)&\\\n",
    "                     (train.item_price>0)].item_price.median()\n",
    "train.loc[train.item_price < 0, 'item_price'] = median"
   ]
  },
  {
   "cell_type": "code",
   "execution_count": 9,
   "metadata": {},
   "outputs": [],
   "source": [
    "# Якутск Орджоникидзе, 56\n",
    "train.loc[train.shop_id == 0, 'shop_id'] = 57\n",
    "test.loc[test.shop_id == 0, 'shop_id'] = 57\n",
    "# Якутск ТЦ \"Центральный\"\n",
    "train.loc[train.shop_id == 1, 'shop_id'] = 58\n",
    "test.loc[test.shop_id == 1, 'shop_id'] = 58\n",
    "# Жуковский ул. Чкалова 39м²\n",
    "train.loc[train.shop_id == 10, 'shop_id'] = 11\n",
    "test.loc[test.shop_id == 10, 'shop_id'] = 11"
   ]
  },
  {
   "cell_type": "markdown",
   "metadata": {},
   "source": [
    "# preprocess shops"
   ]
  },
  {
   "cell_type": "code",
   "execution_count": 10,
   "metadata": {},
   "outputs": [],
   "source": [
    "# create column:shop_city_name\n",
    "shops.loc[shops.shop_name == 'Сергиев Посад ТЦ \"7Я\"', 'shop_name'] = 'СергиевПосад ТЦ \"7Я\"'\n",
    "shops['city_name'] = shops['shop_name'].apply(lambda x:x.split(' ')[0])\n",
    "# proofreading shop_city_name\n",
    "shops.loc[shops['city_name']=='!Якутск', \\\n",
    "         'city_name'] = 'Якутск'\n",
    "# Encoding\n",
    "shops['city_code'] = LabelEncoder().fit_transform(shops['city_name'])\n",
    "shops = shops[['shop_id','city_code']]"
   ]
  },
  {
   "cell_type": "markdown",
   "metadata": {},
   "source": [
    "# preprocess cats"
   ]
  },
  {
   "cell_type": "code",
   "execution_count": 11,
   "metadata": {},
   "outputs": [],
   "source": [
    "cats['split'] = cats['item_category_name'].str.split('-')\n",
    "cats['type'] = cats['split'].map(lambda x: x[0].strip())\n",
    "cats['type_code'] = LabelEncoder().fit_transform(cats['type'])\n",
    "\n",
    "# sub type\n",
    "cats['subtype'] = cats['split'].map(lambda x: x[1].strip() if len(x) > 1 else x[0].strip())\n",
    "cats['subtype_code'] = LabelEncoder().fit_transform(cats['subtype'])\n",
    "cats = cats[['item_category_id','type_code', 'subtype_code']]\n",
    "\n",
    "# How deal with Чистые носители (штучные) & blank media (piece) ???"
   ]
  },
  {
   "cell_type": "code",
   "execution_count": 12,
   "metadata": {},
   "outputs": [],
   "source": [
    "items.drop(['item_name'], axis=1, inplace=True)"
   ]
  },
  {
   "cell_type": "markdown",
   "metadata": {},
   "source": [
    "# Create Monthly Sale"
   ]
  },
  {
   "cell_type": "code",
   "execution_count": 13,
   "metadata": {},
   "outputs": [],
   "source": [
    "# test data is (shop_id) x (item_id)\n",
    "# so create train-matrix:(shop_id) x (item_id)\n",
    "\n",
    "matrix = []\n",
    "cols = ['date_block_num','shop_id','item_id']\n",
    "for i in range(34):\n",
    "    sales = train[train.date_block_num==i]\n",
    "    matrix.append(np.array(list(product([i], sales.shop_id.unique(), sales.item_id.unique())),\\\n",
    "                           dtype='int16'))\n",
    "\n",
    "matrix = pd.DataFrame(np.vstack(matrix), columns=cols)\n",
    "matrix['date_block_num'] = matrix['date_block_num'].astype(np.int8)\n",
    "matrix['shop_id'] = matrix['shop_id'].astype(np.int8)\n",
    "matrix['item_id'] = matrix['item_id'].astype(np.int16)\n",
    "matrix.sort_values(cols,inplace=True)"
   ]
  },
  {
   "cell_type": "code",
   "execution_count": 14,
   "metadata": {},
   "outputs": [],
   "source": [
    "group = train.groupby(['date_block_num', 'shop_id', 'item_id']).agg({'item_cnt_day':['sum']})\n",
    "group.columns = ['item_cnt_month']\n",
    "group.reset_index(inplace=True)"
   ]
  },
  {
   "cell_type": "code",
   "execution_count": 15,
   "metadata": {},
   "outputs": [],
   "source": [
    "matrix = pd.merge(matrix, group, on=cols, how='left')\n",
    "matrix['item_cnt_month'] = (matrix['item_cnt_month'].fillna(0).clip(0, 20).astype(np.float16))\n",
    "\n",
    "train_month = matrix.copy()"
   ]
  },
  {
   "cell_type": "markdown",
   "metadata": {},
   "source": [
    "# Test set"
   ]
  },
  {
   "cell_type": "code",
   "execution_count": 16,
   "metadata": {},
   "outputs": [],
   "source": [
    "test['date_block_num'] = 34\n",
    "test['date_block_num'] = test['date_block_num'].astype(np.int8)\n",
    "test['shop_id'] = test['shop_id'].astype(np.int8)\n",
    "test['item_id'] = test['item_id'].astype(np.int16)"
   ]
  },
  {
   "cell_type": "code",
   "execution_count": 17,
   "metadata": {},
   "outputs": [],
   "source": [
    "matrix = pd.concat([matrix, test], ignore_index=True, sort=False, keys=cols)\n",
    "matrix.fillna(0, inplace=True)"
   ]
  },
  {
   "cell_type": "markdown",
   "metadata": {},
   "source": [
    "# Shops/Items/Cats"
   ]
  },
  {
   "cell_type": "code",
   "execution_count": 18,
   "metadata": {},
   "outputs": [],
   "source": [
    "matrix = pd.merge(matrix, shops, on='shop_id', how='left')\n",
    "matrix = pd.merge(matrix, items, on='item_id', how='left')\n",
    "matrix = pd.merge(matrix, cats, on='item_category_id', how='left')\n",
    "matrix['city_code'] = matrix['city_code'].astype(np.int8)\n",
    "matrix['item_category_id'] = matrix['item_category_id'].astype(np.int8)\n",
    "matrix['type_code'] = matrix['type_code'].astype(np.int8)\n",
    "matrix['subtype_code'] = matrix['subtype_code'].astype(np.int8)"
   ]
  },
  {
   "cell_type": "markdown",
   "metadata": {},
   "source": [
    "# Target Lags"
   ]
  },
  {
   "cell_type": "code",
   "execution_count": 19,
   "metadata": {},
   "outputs": [],
   "source": [
    "def lag_feature(df, lags, col):\n",
    "    tmp = df[['date_block_num', 'shop_id', 'item_id', col]]\n",
    "    for i in lags:\n",
    "        shifted = tmp.copy()\n",
    "        shifted.columns = ['date_block_num', 'shop_id', 'item_id', col+'_lag_'+str(i)]\n",
    "        shifted['date_block_num'] += i\n",
    "        df = pd.merge(df, shifted, on=['date_block_num', 'shop_id', 'item_id'], how='left')\n",
    "    return df"
   ]
  },
  {
   "cell_type": "code",
   "execution_count": 20,
   "metadata": {},
   "outputs": [],
   "source": [
    "matrix = lag_feature(df=matrix, lags=[1, 2, 3, 4, 5, 6, 9, 12], col='item_cnt_month')"
   ]
  },
  {
   "cell_type": "markdown",
   "metadata": {},
   "source": [
    "# Mean encoded features\n",
    "groupby  \n",
    " - date_block_num\n",
    " - date_block_num, item_id\n",
    " - date_block_num, shop_id\n",
    " - date_block_num, item_category_id\n",
    " - date_block_num, shop_id, item_category_id\n",
    " - date_block_num, shop_id, type_code\n",
    " - date_block_num, shop_id, subtype_code\n",
    " - date_block_num, city_code\n",
    " - date_block_num, item_id, city_code\n",
    " - date_block_num, type_code\n",
    " - date_block_num, subtype_code"
   ]
  },
  {
   "cell_type": "code",
   "execution_count": 21,
   "metadata": {},
   "outputs": [],
   "source": [
    "group = matrix.groupby('date_block_num').agg({'item_cnt_month':['mean']})\n",
    "group.columns = ['date_avg_item_cnt']\n",
    "group.reset_index(inplace=True)"
   ]
  },
  {
   "cell_type": "code",
   "execution_count": 22,
   "metadata": {},
   "outputs": [],
   "source": [
    "matrix = pd.merge(matrix, group, on=['date_block_num'], how='left')\n",
    "matrix['date_avg_item_cnt'] = matrix['date_avg_item_cnt'].astype(np.float16)\n",
    "matrix = lag_feature(df=matrix, lags=[1], col='date_avg_item_cnt')\n",
    "matrix.drop('date_avg_item_cnt', axis=1, inplace=True)"
   ]
  },
  {
   "cell_type": "code",
   "execution_count": 23,
   "metadata": {},
   "outputs": [],
   "source": [
    "group = matrix.groupby(['date_block_num', 'item_id']).agg({'item_cnt_month':['mean']})\n",
    "group.columns = ['date_item_avg_item_cnt']\n",
    "group.reset_index(inplace=True)"
   ]
  },
  {
   "cell_type": "code",
   "execution_count": 24,
   "metadata": {},
   "outputs": [],
   "source": [
    "matrix = pd.merge(matrix, group, on=['date_block_num', 'item_id'], how='left')\n",
    "matrix['date_item_avg_item_cnt'] = matrix['date_item_avg_item_cnt'].astype(np.float16)\n",
    "matrix.drop(['date_item_avg_item_cnt'], axis=1, inplace=True)"
   ]
  },
  {
   "cell_type": "code",
   "execution_count": 25,
   "metadata": {},
   "outputs": [
    {
     "data": {
      "text/plain": [
       "-23.193681478500366"
      ]
     },
     "execution_count": 25,
     "metadata": {},
     "output_type": "execute_result"
    }
   ],
   "source": [
    "ts = time.time()\n",
    "\n",
    "group = matrix.groupby(['date_block_num', 'shop_id']).agg({'item_cnt_month': ['mean']})\n",
    "group.columns = [ 'date_shop_avg_item_cnt' ]\n",
    "group.reset_index(inplace=True)\n",
    "\n",
    "matrix = pd.merge(matrix, group, on=['date_block_num','shop_id'], how='left')\n",
    "matrix['date_shop_avg_item_cnt'] = matrix['date_shop_avg_item_cnt'].astype(np.float16)\n",
    "matrix = lag_feature(matrix, [1, 2, 3, 6, 9, 12], 'date_shop_avg_item_cnt')\n",
    "matrix.drop(['date_shop_avg_item_cnt'], axis=1, inplace=True)\n",
    "\n",
    "ts - time.time()"
   ]
  },
  {
   "cell_type": "code",
   "execution_count": 26,
   "metadata": {},
   "outputs": [
    {
     "data": {
      "text/plain": [
       "6.127365589141846"
      ]
     },
     "execution_count": 26,
     "metadata": {},
     "output_type": "execute_result"
    }
   ],
   "source": [
    "ts = time.time()\n",
    "\n",
    "group = matrix.groupby(['date_block_num', 'item_category_id']).agg({'item_cnt_month': ['mean']})\n",
    "group.columns = [ 'date_cat_avg_item_cnt' ]\n",
    "group.reset_index(inplace=True)\n",
    "matrix = pd.merge(matrix, group, on=['date_block_num','item_category_id'], how='left')\n",
    "matrix['date_cat_avg_item_cnt'] = matrix['date_cat_avg_item_cnt'].astype(np.float16)\n",
    "matrix = lag_feature(matrix, [1], 'date_cat_avg_item_cnt')\n",
    "matrix.drop(['date_cat_avg_item_cnt'], axis=1, inplace=True)\n",
    "\n",
    "time.time() - ts"
   ]
  },
  {
   "cell_type": "code",
   "execution_count": 27,
   "metadata": {},
   "outputs": [
    {
     "data": {
      "text/plain": [
       "6.625975847244263"
      ]
     },
     "execution_count": 27,
     "metadata": {},
     "output_type": "execute_result"
    }
   ],
   "source": [
    "ts = time.time()\n",
    "\n",
    "group = matrix.groupby(['date_block_num', 'shop_id', 'item_category_id']).agg({'item_cnt_month': ['mean']})\n",
    "group.columns = ['date_shop_cat_avg_item_cnt']\n",
    "group.reset_index(inplace=True)\n",
    "\n",
    "matrix = pd.merge(matrix, group, on=['date_block_num', 'shop_id', 'item_category_id'], how='left')\n",
    "matrix['date_shop_cat_avg_item_cnt'] = matrix['date_shop_cat_avg_item_cnt'].astype(np.float16)\n",
    "matrix = lag_feature(matrix, [1], 'date_shop_cat_avg_item_cnt')\n",
    "matrix.drop(['date_shop_cat_avg_item_cnt'], axis=1, inplace=True)\n",
    "\n",
    "time.time() - ts"
   ]
  },
  {
   "cell_type": "code",
   "execution_count": 28,
   "metadata": {},
   "outputs": [
    {
     "data": {
      "text/plain": [
       "6.6301398277282715"
      ]
     },
     "execution_count": 28,
     "metadata": {},
     "output_type": "execute_result"
    }
   ],
   "source": [
    "ts = time.time()\n",
    "\n",
    "group = matrix.groupby(['date_block_num', 'shop_id', 'type_code']).agg({'item_cnt_month': ['mean']})\n",
    "group.columns = ['date_shop_type_avg_item_cnt']\n",
    "group.reset_index(inplace=True)\n",
    "\n",
    "matrix = pd.merge(matrix, group, on=['date_block_num', 'shop_id', 'type_code'], how='left')\n",
    "matrix['date_shop_type_avg_item_cnt'] = matrix['date_shop_type_avg_item_cnt'].astype(np.float16)\n",
    "matrix = lag_feature(matrix, [1], 'date_shop_type_avg_item_cnt')\n",
    "matrix.drop(['date_shop_type_avg_item_cnt'], axis=1, inplace=True)\n",
    "\n",
    "time.time() - ts"
   ]
  },
  {
   "cell_type": "code",
   "execution_count": 29,
   "metadata": {},
   "outputs": [
    {
     "data": {
      "text/plain": [
       "6.815263986587524"
      ]
     },
     "execution_count": 29,
     "metadata": {},
     "output_type": "execute_result"
    }
   ],
   "source": [
    "ts = time.time()\n",
    "\n",
    "group = matrix.groupby(['date_block_num', 'shop_id', 'subtype_code']).agg({'item_cnt_month': ['mean']})\n",
    "group.columns = ['date_shop_subtype_avg_item_cnt']\n",
    "group.reset_index(inplace=True)\n",
    "\n",
    "matrix = pd.merge(matrix, group, on=['date_block_num', 'shop_id', 'subtype_code'], how='left')\n",
    "matrix['date_shop_subtype_avg_item_cnt'] = matrix['date_shop_subtype_avg_item_cnt'].astype(np.float16)\n",
    "matrix = lag_feature(matrix, [1], 'date_shop_subtype_avg_item_cnt')\n",
    "matrix.drop(['date_shop_subtype_avg_item_cnt'], axis=1, inplace=True)\n",
    "\n",
    "time.time() - ts"
   ]
  },
  {
   "cell_type": "code",
   "execution_count": 30,
   "metadata": {},
   "outputs": [
    {
     "data": {
      "text/plain": [
       "6.804862022399902"
      ]
     },
     "execution_count": 30,
     "metadata": {},
     "output_type": "execute_result"
    }
   ],
   "source": [
    "ts = time.time()\n",
    "\n",
    "group = matrix.groupby(['date_block_num', 'city_code']).agg({'item_cnt_month': ['mean']})\n",
    "group.columns = [ 'date_city_avg_item_cnt' ]\n",
    "group.reset_index(inplace=True)\n",
    "\n",
    "matrix = pd.merge(matrix, group, on=['date_block_num', 'city_code'], how='left')\n",
    "matrix['date_city_avg_item_cnt'] = matrix['date_city_avg_item_cnt'].astype(np.float16)\n",
    "matrix = lag_feature(matrix, [1], 'date_city_avg_item_cnt')\n",
    "matrix.drop(['date_city_avg_item_cnt'], axis=1, inplace=True)\n",
    "\n",
    "time.time() - ts"
   ]
  },
  {
   "cell_type": "code",
   "execution_count": 31,
   "metadata": {},
   "outputs": [
    {
     "data": {
      "text/plain": [
       "10.338124990463257"
      ]
     },
     "execution_count": 31,
     "metadata": {},
     "output_type": "execute_result"
    }
   ],
   "source": [
    "ts = time.time()\n",
    "\n",
    "group = matrix.groupby(['date_block_num', 'item_id', 'city_code']).agg({'item_cnt_month': ['mean']})\n",
    "group.columns = [ 'date_item_city_avg_item_cnt' ]\n",
    "group.reset_index(inplace=True)\n",
    "\n",
    "matrix = pd.merge(matrix, group, on=['date_block_num', 'item_id', 'city_code'], how='left')\n",
    "matrix['date_item_city_avg_item_cnt'] = matrix['date_item_city_avg_item_cnt'].astype(np.float16)\n",
    "matrix = lag_feature(matrix, [1], 'date_item_city_avg_item_cnt')\n",
    "matrix.drop(['date_item_city_avg_item_cnt'], axis=1, inplace=True)\n",
    "\n",
    "time.time() - ts"
   ]
  },
  {
   "cell_type": "code",
   "execution_count": 32,
   "metadata": {},
   "outputs": [
    {
     "data": {
      "text/plain": [
       "6.915813684463501"
      ]
     },
     "execution_count": 32,
     "metadata": {},
     "output_type": "execute_result"
    }
   ],
   "source": [
    "ts = time.time()\n",
    "\n",
    "group = matrix.groupby(['date_block_num', 'type_code']).agg({'item_cnt_month': ['mean']})\n",
    "group.columns = [ 'date_type_avg_item_cnt' ]\n",
    "group.reset_index(inplace=True)\n",
    "\n",
    "matrix = pd.merge(matrix, group, on=['date_block_num', 'type_code'], how='left')\n",
    "matrix['date_type_avg_item_cnt'] = matrix['date_type_avg_item_cnt'].astype(np.float16)\n",
    "matrix = lag_feature(matrix, [1], 'date_type_avg_item_cnt')\n",
    "matrix.drop(['date_type_avg_item_cnt'], axis=1, inplace=True)\n",
    "\n",
    "time.time() - ts"
   ]
  },
  {
   "cell_type": "code",
   "execution_count": 33,
   "metadata": {},
   "outputs": [
    {
     "data": {
      "text/plain": [
       "6.963634490966797"
      ]
     },
     "execution_count": 33,
     "metadata": {},
     "output_type": "execute_result"
    }
   ],
   "source": [
    "ts = time.time()\n",
    "\n",
    "group = matrix.groupby(['date_block_num', 'subtype_code']).agg({'item_cnt_month': ['mean']})\n",
    "group.columns = [ 'date_subtype_avg_item_cnt' ]\n",
    "group.reset_index(inplace=True)\n",
    "\n",
    "matrix = pd.merge(matrix, group, on=['date_block_num', 'subtype_code'], how='left')\n",
    "matrix['date_subtype_avg_item_cnt'] = matrix['date_subtype_avg_item_cnt'].astype(np.float16)\n",
    "matrix = lag_feature(matrix, [1], 'date_subtype_avg_item_cnt')\n",
    "matrix.drop(['date_subtype_avg_item_cnt'], axis=1, inplace=True)\n",
    "\n",
    "time.time() - ts"
   ]
  },
  {
   "cell_type": "markdown",
   "metadata": {},
   "source": [
    "# Trend Features\n",
    "Price trend for the last six months."
   ]
  },
  {
   "cell_type": "code",
   "execution_count": 34,
   "metadata": {},
   "outputs": [],
   "source": [
    "group = train.groupby(['item_id']).agg({'item_price': ['mean']})\n",
    "group.columns = ['item_avg_item_price']\n",
    "group.reset_index(inplace=True)\n",
    "\n",
    "matrix = pd.merge(matrix, group, on=['item_id'], how='left')\n",
    "matrix['item_avg_item_price'] = matrix['item_avg_item_price'].astype(np.float16)"
   ]
  },
  {
   "cell_type": "code",
   "execution_count": 35,
   "metadata": {},
   "outputs": [],
   "source": [
    "group = train.groupby(['date_block_num','item_id']).agg({'item_price': ['mean']})\n",
    "group.columns = ['date_item_avg_item_price']\n",
    "group.reset_index(inplace=True)\n",
    "\n",
    "matrix = pd.merge(matrix, group, on=['date_block_num','item_id'], how='left')\n",
    "matrix['date_item_avg_item_price'] = matrix['date_item_avg_item_price'].astype(np.float16)"
   ]
  },
  {
   "cell_type": "code",
   "execution_count": 36,
   "metadata": {},
   "outputs": [],
   "source": [
    "lags = [1, 2, 3, 4, 5, 6]\n",
    "matrix = lag_feature(df=matrix, lags=lags, col='date_item_avg_item_price')\n",
    "\n",
    "for i in lags:\n",
    "    matrix['delta_price_lag_'+str(i)] = \\\n",
    "    (matrix['date_item_avg_item_price_lag_'+str(i)] - matrix['item_avg_item_price'])\\\n",
    "    / matrix['item_avg_item_price']"
   ]
  },
  {
   "cell_type": "code",
   "execution_count": 37,
   "metadata": {},
   "outputs": [],
   "source": [
    "def select_trend(row):\n",
    "    for i in lags:\n",
    "        if row['delta_price_lag_'+str(i)]:\n",
    "            return row['delta_price_lag_'+str(i)]\n",
    "    return 0"
   ]
  },
  {
   "cell_type": "code",
   "execution_count": 38,
   "metadata": {},
   "outputs": [
    {
     "data": {
      "text/plain": [
       "145.60349917411804"
      ]
     },
     "execution_count": 38,
     "metadata": {},
     "output_type": "execute_result"
    }
   ],
   "source": [
    "ts = time.time()\n",
    "\n",
    "matrix['delta_price_lag'] = matrix.apply(select_trend, axis=1)\n",
    "matrix['delta_price_lag'] = matrix['delta_price_lag'].astype(np.float16)\n",
    "matrix['delta_price_lag'].fillna(0, inplace=True)\n",
    "\n",
    "# https://stackoverflow.com/questions/31828240/first-non-null-value-per-row-from-a-list-of-pandas-columns/31828559\n",
    "# matrix['price_trend'] = matrix[['delta_price_lag_1','delta_price_lag_2','delta_price_lag_3']].bfill(axis=1).iloc[:, 0]\n",
    "# Invalid dtype for backfill_2d [float16]\n",
    "\n",
    "fetures_to_drop = ['item_avg_item_price', 'date_item_avg_item_price']\n",
    "for i in lags:\n",
    "    fetures_to_drop += ['date_item_avg_item_price_lag_'+str(i)]\n",
    "    fetures_to_drop += ['delta_price_lag_'+str(i)]\n",
    "\n",
    "matrix.drop(fetures_to_drop, axis=1, inplace=True)\n",
    "\n",
    "time.time() - ts"
   ]
  },
  {
   "cell_type": "code",
   "execution_count": 39,
   "metadata": {},
   "outputs": [],
   "source": [
    "train['revenue'] = train['item_price'] * train['item_cnt_day']"
   ]
  },
  {
   "cell_type": "code",
   "execution_count": 40,
   "metadata": {},
   "outputs": [],
   "source": [
    "group = train.groupby(['date_block_num', 'shop_id']).agg({'revenue':['sum']})\n",
    "group.columns = ['date_shop_revenue']\n",
    "group.reset_index(inplace=True)"
   ]
  },
  {
   "cell_type": "code",
   "execution_count": 41,
   "metadata": {},
   "outputs": [],
   "source": [
    "matrix = pd.merge(matrix, group, on=['date_block_num','shop_id'], how='left')\n",
    "matrix['date_shop_revenue'] = matrix['date_shop_revenue'].astype(np.float32)"
   ]
  },
  {
   "cell_type": "code",
   "execution_count": 42,
   "metadata": {},
   "outputs": [],
   "source": [
    "group = group.groupby(['shop_id']).agg({'date_shop_revenue': ['mean']})\n",
    "group.columns = ['shop_avg_revenue']\n",
    "group.reset_index(inplace=True)\n",
    "\n",
    "matrix = pd.merge(matrix, group, on=['shop_id'], how='left')\n",
    "matrix['shop_avg_revenue'] = matrix['shop_avg_revenue'].astype(np.float32)\n",
    "\n",
    "matrix['delta_revenue'] = \\\n",
    "(matrix['date_shop_revenue'] - matrix['shop_avg_revenue'])/ matrix['shop_avg_revenue']\n",
    "matrix['delta_revenue'] = matrix['delta_revenue'].astype(np.float16)\n",
    "\n",
    "matrix = lag_feature(matrix, [1], 'delta_revenue')\n",
    "\n",
    "matrix.drop(['date_shop_revenue','shop_avg_revenue','delta_revenue'], axis=1, inplace=True)"
   ]
  },
  {
   "cell_type": "markdown",
   "metadata": {},
   "source": [
    "# Special Feature\n",
    "month's days count, item-shop last&first sale, item last&first sale"
   ]
  },
  {
   "cell_type": "code",
   "execution_count": 43,
   "metadata": {},
   "outputs": [],
   "source": [
    "train['date'] = pd.to_datetime(train['date'], format=\"%d.%m.%Y\")\n",
    "train['year'] = train.date.dt.year\n",
    "train['month'] = train.date.dt.month\n",
    "train['day'] = train.date.dt.day"
   ]
  },
  {
   "cell_type": "code",
   "execution_count": 44,
   "metadata": {},
   "outputs": [],
   "source": [
    "# create month & number of days in a month\n",
    "matrix['month'] = matrix['date_block_num'] % 12\n",
    "days = pd.Series([31, 28, 31, 30, 31, 30, 31, 31, 30, 31, 30, 31])\n",
    "matrix['day_cnt'] = matrix['month'].map(days).astype(np.int8)"
   ]
  },
  {
   "cell_type": "markdown",
   "metadata": {},
   "source": [
    "Months since the last sale for each shop/item pair and for item only. I use programing approach.\n",
    "\n",
    "<i>\n",
    "    Create HashTable with key equals to {shop_id,item_id} and value equals to date_block_num.  \n",
    "    Iterate data from the top. Foreach row if {row.shop_id,row.item_id} is not present in the table, then add it to the table and set its value to row.  \n",
    "    date_block_num. if HashTable contains key, then calculate the difference beteween cached value and row.date_block_num.</i>"
   ]
  },
  {
   "cell_type": "markdown",
   "metadata": {},
   "source": [
    "ts = time.time()\n",
    "\n",
    "cache = {}\n",
    "matrix['item_shop_last_sale'] = -1\n",
    "matrix['item_shop_last_sale'] = matrix['item_shop_last_sale'].astype(np.int8)\n",
    "\n",
    "\"\"\"\n",
    "for idx, row in matrix.iterrows():    \n",
    "    key = str(row.item_id)+' '+str(row.shop_id)\n",
    "    \n",
    "    if key not in cache:\n",
    "        if row.item_cnt_month!=0:\n",
    "            cache[key] = row.date_block_num\n",
    "    else:\n",
    "        last_date_block_num = cache[key]\n",
    "        \n",
    "        matrix.at[idx, 'item_shop_last_sale'] = \\\n",
    "        row.date_block_num - last_date_block_num\n",
    "        \n",
    "        cache[key] = row.date_block_num\n",
    "\"\"\"\n",
    "\n",
    "for row in matrix.itertuples():\n",
    "    idx = getattr(row, 'Index')\n",
    "    item_id = getattr(row, 'item_id')\n",
    "    shop_id = getattr(row, 'shop_id')\n",
    "    date_block_num = getattr(row, 'date_block_num')\n",
    "    item_cnt_month = getattr(row, 'item_cnt_month')\n",
    "    \n",
    "    key = str(item_id) + \" \" + str(shop_id)\n",
    "    if key not in cache:\n",
    "        if item_cnt_month != 0:\n",
    "            cache[key] = date_block_num\n",
    "    else:\n",
    "        last_date_block_num = cache[key]\n",
    "        matrix.at[idx, 'item_shop_last_sale'] = \\\n",
    "            date_block_num - last_date_block_num\n",
    "        cache[key] = date_block_num\n",
    "\n",
    "time.time() - ts"
   ]
  },
  {
   "cell_type": "markdown",
   "metadata": {},
   "source": [
    "ts = time.time()\n",
    "\n",
    "cache = {}\n",
    "matrix['item_last_sale'] = -1\n",
    "matrix['item_last_sale'] = matrix['item_last_sale'].astype(np.int8)\n",
    "\n",
    "\"\"\"\n",
    "for idx, row in matrix.iterrows():    \n",
    "    key = row.item_id\n",
    "    if key not in cache:\n",
    "        if row.item_cnt_month!=0:\n",
    "            cache[key] = row.date_block_num\n",
    "    else:\n",
    "        last_date_block_num = cache[key]\n",
    "        if row.date_block_num>last_date_block_num:\n",
    "            matrix.at[idx, 'item_last_sale'] = \\\n",
    "            row.date_block_num - last_date_block_num\n",
    "            \n",
    "            cache[key] = row.date_block_num\n",
    "\"\"\"\n",
    "\n",
    "for row in matrix.itertuples():\n",
    "    idx = getattr(row, 'Index')\n",
    "    item_id = getattr(row, 'item_id')\n",
    "    item_cnt_month = getattr(row, 'item_cnt_month')\n",
    "    date_block_num = getattr(row, 'date_block_num')\n",
    "    \n",
    "    key = item_id\n",
    "    if key not in cache:\n",
    "        if item_cnt_month != 0:\n",
    "            cache[key] = date_block_num\n",
    "    else:\n",
    "        last_date_block_num = cache[key]\n",
    "        if date_block_num > last_date_block_num:\n",
    "            matrix.at[idx, 'item_last_sale'] =\\\n",
    "            date_block_num - last_date_block_num\n",
    "            cache[key] = date_block_num\n",
    "\n",
    "time.time() - ts"
   ]
  },
  {
   "cell_type": "markdown",
   "metadata": {},
   "source": [
    "ts = time.time()\n",
    "\n",
    "matrix['item_shop_first_sale'] = \\\n",
    "matrix['date_block_num'] - \\\n",
    "matrix.groupby(['item_id','shop_id'])['date_block_num'].transform('min')\n",
    "\n",
    "matrix['item_first_sale'] = \\\n",
    "matrix['date_block_num'] - \\\n",
    "matrix.groupby('item_id')['date_block_num'].transform('min')\n",
    "\n",
    "time.time() - ts"
   ]
  },
  {
   "cell_type": "markdown",
   "metadata": {},
   "source": [
    "## Easier & faster method to calculate first & last sale item sales"
   ]
  },
  {
   "cell_type": "code",
   "execution_count": 45,
   "metadata": {},
   "outputs": [
    {
     "name": "stdout",
     "output_type": "stream",
     "text": [
      "4.440839052200317\n"
     ]
    }
   ],
   "source": [
    "ts = time.time()\n",
    "\n",
    "# Get the list of block for each item was sold from monthly train data\n",
    "sale_group = train_month.groupby('item_id')['date_block_num'].\\\n",
    "    apply(list).reset_index(name='date_block_num')\n",
    "\n",
    "# Get the first & last element from the block list\n",
    "sale_group['item_first_sale'] = sale_group['date_block_num'].apply(lambda x:x[0])\n",
    "sale_group['item_last_sale'] = sale_group['date_block_num'].apply(lambda x:x[-1])\n",
    "\n",
    "# Fill NA with -1(there is no sales)\n",
    "sale_group = sale_group.fillna(-1)\n",
    "\n",
    "#display(sale_group)\n",
    "\n",
    "# Merge with main dataset\n",
    "\"\"\"\n",
    "matrix = pd.merge(\n",
    "    matrix,\n",
    "    sale_group.drop('data_block_num', axis=1), \n",
    "    on=['item_id'],\n",
    "    how='left'\n",
    ")\n",
    "\"\"\"\n",
    "\n",
    "matrix = pd.merge(\n",
    "    matrix, sale_group.drop('date_block_num', axis=1),\n",
    "    on=['item_id'],\n",
    "    how='left'\n",
    ")\n",
    "\n",
    "print(time.time() - ts)"
   ]
  },
  {
   "cell_type": "code",
   "execution_count": 46,
   "metadata": {},
   "outputs": [
    {
     "name": "stdout",
     "output_type": "stream",
     "text": [
      "25.667759656906128\n"
     ]
    }
   ],
   "source": [
    "ts = time.time()\n",
    "\n",
    "# Get the list of block for each item was sold from monthly train data\n",
    "sale_group = train_month.groupby(['item_id', 'shop_id'])['date_block_num'].\\\n",
    "    apply(list).reset_index(name='date_block_num')\n",
    "\n",
    "# Get the first & last element from the block list\n",
    "sale_group['item_shop_first_sale'] = sale_group['date_block_num'].apply(lambda x:x[0])\n",
    "sale_group['item_shop_last_sale'] = sale_group['date_block_num'].apply(lambda x:x[-1])\n",
    "\n",
    "# Fill NA with -1(there is no sales)\n",
    "sale_group = sale_group.fillna(-1)\n",
    "\n",
    "#display(sale_group)\n",
    "\n",
    "# Merge with main dataset\n",
    "matrix = pd.merge(\n",
    "    matrix,\n",
    "    sale_group.drop('date_block_num', axis=1), \n",
    "    on=['item_id', 'shop_id'],\n",
    "    how='left'\n",
    ")\n",
    "\n",
    "print(time.time() - ts)"
   ]
  },
  {
   "cell_type": "markdown",
   "metadata": {},
   "source": [
    "## Final preparations\n",
    "Because of the using 12 as lag value drop first 12 months. Also drop all the columns with this month calculated values (other words which can not be calcucated for the test set)."
   ]
  },
  {
   "cell_type": "code",
   "execution_count": 47,
   "metadata": {},
   "outputs": [
    {
     "data": {
      "text/plain": [
       "0.7611205577850342"
      ]
     },
     "execution_count": 47,
     "metadata": {},
     "output_type": "execute_result"
    }
   ],
   "source": [
    "ts = time.time()\n",
    "matrix = matrix[matrix.date_block_num > 11]\n",
    "time.time() - ts"
   ]
  },
  {
   "cell_type": "markdown",
   "metadata": {},
   "source": [
    "Producing lags brings a lot of nulls."
   ]
  },
  {
   "cell_type": "code",
   "execution_count": 48,
   "metadata": {},
   "outputs": [
    {
     "data": {
      "text/plain": [
       "0.9479794502258301"
      ]
     },
     "execution_count": 48,
     "metadata": {},
     "output_type": "execute_result"
    }
   ],
   "source": [
    "ts = time.time()\n",
    "def fill_na(df):\n",
    "    for col in df.columns:\n",
    "        if ('_lag_' in col) & (df[col].isnull().any()):\n",
    "            if ('item_cnt' in col):\n",
    "                df[col].fillna(0, inplace=True)         \n",
    "    return df\n",
    "\n",
    "matrix = fill_na(matrix)\n",
    "time.time() - ts"
   ]
  },
  {
   "cell_type": "code",
   "execution_count": 49,
   "metadata": {},
   "outputs": [
    {
     "name": "stdout",
     "output_type": "stream",
     "text": [
      "<class 'pandas.core.frame.DataFrame'>\n",
      "Int64Index: 5694622 entries, 4111216 to 9805837\n",
      "Data columns (total 39 columns):\n",
      " #   Column                                Dtype  \n",
      "---  ------                                -----  \n",
      " 0   date_block_num                        int8   \n",
      " 1   shop_id                               int8   \n",
      " 2   item_id                               int16  \n",
      " 3   item_cnt_month                        float16\n",
      " 4   city_code                             int8   \n",
      " 5   item_category_id                      int8   \n",
      " 6   type_code                             int8   \n",
      " 7   subtype_code                          int8   \n",
      " 8   item_cnt_month_lag_1                  float16\n",
      " 9   item_cnt_month_lag_2                  float16\n",
      " 10  item_cnt_month_lag_3                  float16\n",
      " 11  item_cnt_month_lag_4                  float16\n",
      " 12  item_cnt_month_lag_5                  float16\n",
      " 13  item_cnt_month_lag_6                  float16\n",
      " 14  item_cnt_month_lag_9                  float16\n",
      " 15  item_cnt_month_lag_12                 float16\n",
      " 16  date_avg_item_cnt_lag_1               float16\n",
      " 17  date_shop_avg_item_cnt_lag_1          float16\n",
      " 18  date_shop_avg_item_cnt_lag_2          float16\n",
      " 19  date_shop_avg_item_cnt_lag_3          float16\n",
      " 20  date_shop_avg_item_cnt_lag_6          float16\n",
      " 21  date_shop_avg_item_cnt_lag_9          float16\n",
      " 22  date_shop_avg_item_cnt_lag_12         float16\n",
      " 23  date_cat_avg_item_cnt_lag_1           float16\n",
      " 24  date_shop_cat_avg_item_cnt_lag_1      float16\n",
      " 25  date_shop_type_avg_item_cnt_lag_1     float16\n",
      " 26  date_shop_subtype_avg_item_cnt_lag_1  float16\n",
      " 27  date_city_avg_item_cnt_lag_1          float16\n",
      " 28  date_item_city_avg_item_cnt_lag_1     float16\n",
      " 29  date_type_avg_item_cnt_lag_1          float16\n",
      " 30  date_subtype_avg_item_cnt_lag_1       float16\n",
      " 31  delta_price_lag                       float16\n",
      " 32  delta_revenue_lag_1                   float16\n",
      " 33  month                                 int8   \n",
      " 34  day_cnt                               int8   \n",
      " 35  item_first_sale                       float64\n",
      " 36  item_last_sale                        float64\n",
      " 37  item_shop_first_sale                  float64\n",
      " 38  item_shop_last_sale                   float64\n",
      "dtypes: float16(26), float64(4), int16(1), int8(8)\n",
      "memory usage: 553.9 MB\n"
     ]
    }
   ],
   "source": [
    "matrix.info()"
   ]
  },
  {
   "cell_type": "code",
   "execution_count": 50,
   "metadata": {},
   "outputs": [],
   "source": [
    "matrix.to_pickle('../features/data.pkl')"
   ]
  },
  {
   "cell_type": "code",
   "execution_count": 50,
   "metadata": {},
   "outputs": [],
   "source": [
    "del matrix\n",
    "#del cache\n",
    "del group\n",
    "del items\n",
    "del shops\n",
    "del cats\n",
    "del train\n",
    "# leave test for submission\n",
    "gc.collect();"
   ]
  },
  {
   "cell_type": "markdown",
   "metadata": {},
   "source": [
    "# Model Setting"
   ]
  },
  {
   "cell_type": "code",
   "execution_count": 57,
   "metadata": {},
   "outputs": [],
   "source": [
    "import pickle\n",
    "\n",
    "from sklearn.preprocessing import LabelEncoder\n",
    "import lightgbm as lgb"
   ]
  },
  {
   "cell_type": "code",
   "execution_count": 76,
   "metadata": {},
   "outputs": [],
   "source": [
    "data = pd.read_pickle('../features/data.pkl')"
   ]
  },
  {
   "cell_type": "code",
   "execution_count": 77,
   "metadata": {},
   "outputs": [
    {
     "name": "stdout",
     "output_type": "stream",
     "text": [
      "<class 'pandas.core.frame.DataFrame'>\n",
      "Int64Index: 5694622 entries, 4111216 to 9805837\n",
      "Data columns (total 39 columns):\n",
      " #   Column                                Dtype  \n",
      "---  ------                                -----  \n",
      " 0   date_block_num                        int8   \n",
      " 1   shop_id                               int8   \n",
      " 2   item_id                               int16  \n",
      " 3   item_cnt_month                        float16\n",
      " 4   city_code                             int8   \n",
      " 5   item_category_id                      int8   \n",
      " 6   type_code                             int8   \n",
      " 7   subtype_code                          int8   \n",
      " 8   item_cnt_month_lag_1                  float16\n",
      " 9   item_cnt_month_lag_2                  float16\n",
      " 10  item_cnt_month_lag_3                  float16\n",
      " 11  item_cnt_month_lag_4                  float16\n",
      " 12  item_cnt_month_lag_5                  float16\n",
      " 13  item_cnt_month_lag_6                  float16\n",
      " 14  item_cnt_month_lag_9                  float16\n",
      " 15  item_cnt_month_lag_12                 float16\n",
      " 16  date_avg_item_cnt_lag_1               float16\n",
      " 17  date_shop_avg_item_cnt_lag_1          float16\n",
      " 18  date_shop_avg_item_cnt_lag_2          float16\n",
      " 19  date_shop_avg_item_cnt_lag_3          float16\n",
      " 20  date_shop_avg_item_cnt_lag_6          float16\n",
      " 21  date_shop_avg_item_cnt_lag_9          float16\n",
      " 22  date_shop_avg_item_cnt_lag_12         float16\n",
      " 23  date_cat_avg_item_cnt_lag_1           float16\n",
      " 24  date_shop_cat_avg_item_cnt_lag_1      float16\n",
      " 25  date_shop_type_avg_item_cnt_lag_1     float16\n",
      " 26  date_shop_subtype_avg_item_cnt_lag_1  float16\n",
      " 27  date_city_avg_item_cnt_lag_1          float16\n",
      " 28  date_item_city_avg_item_cnt_lag_1     float16\n",
      " 29  date_type_avg_item_cnt_lag_1          float16\n",
      " 30  date_subtype_avg_item_cnt_lag_1       float16\n",
      " 31  delta_price_lag                       float16\n",
      " 32  delta_revenue_lag_1                   float16\n",
      " 33  month                                 int8   \n",
      " 34  day_cnt                               int8   \n",
      " 35  item_first_sale                       float64\n",
      " 36  item_last_sale                        float64\n",
      " 37  item_shop_first_sale                  float64\n",
      " 38  item_shop_last_sale                   float64\n",
      "dtypes: float16(26), float64(4), int16(1), int8(8)\n",
      "memory usage: 553.9 MB\n"
     ]
    }
   ],
   "source": [
    "data.info()"
   ]
  },
  {
   "cell_type": "code",
   "execution_count": 78,
   "metadata": {},
   "outputs": [
    {
     "data": {
      "text/html": [
       "<div>\n",
       "<style scoped>\n",
       "    .dataframe tbody tr th:only-of-type {\n",
       "        vertical-align: middle;\n",
       "    }\n",
       "\n",
       "    .dataframe tbody tr th {\n",
       "        vertical-align: top;\n",
       "    }\n",
       "\n",
       "    .dataframe thead th {\n",
       "        text-align: right;\n",
       "    }\n",
       "</style>\n",
       "<table border=\"1\" class=\"dataframe\">\n",
       "  <thead>\n",
       "    <tr style=\"text-align: right;\">\n",
       "      <th></th>\n",
       "      <th>date_block_num</th>\n",
       "      <th>shop_id</th>\n",
       "      <th>item_id</th>\n",
       "      <th>item_cnt_month</th>\n",
       "      <th>city_code</th>\n",
       "      <th>item_category_id</th>\n",
       "      <th>type_code</th>\n",
       "      <th>subtype_code</th>\n",
       "      <th>item_cnt_month_lag_1</th>\n",
       "      <th>item_cnt_month_lag_2</th>\n",
       "      <th>...</th>\n",
       "      <th>date_city_avg_item_cnt_lag_1</th>\n",
       "      <th>date_item_city_avg_item_cnt_lag_1</th>\n",
       "      <th>delta_price_lag</th>\n",
       "      <th>delta_revenue_lag_1</th>\n",
       "      <th>month</th>\n",
       "      <th>day_cnt</th>\n",
       "      <th>item_first_sale</th>\n",
       "      <th>item_last_sale</th>\n",
       "      <th>item_shop_first_sale</th>\n",
       "      <th>item_shop_last_sale</th>\n",
       "    </tr>\n",
       "  </thead>\n",
       "  <tbody>\n",
       "    <tr>\n",
       "      <th>4111216</th>\n",
       "      <td>12</td>\n",
       "      <td>2</td>\n",
       "      <td>27</td>\n",
       "      <td>0.0</td>\n",
       "      <td>0</td>\n",
       "      <td>19</td>\n",
       "      <td>5</td>\n",
       "      <td>10</td>\n",
       "      <td>0.0</td>\n",
       "      <td>0.0</td>\n",
       "      <td>...</td>\n",
       "      <td>0.092834</td>\n",
       "      <td>0.0</td>\n",
       "      <td>0.125122</td>\n",
       "      <td>0.289795</td>\n",
       "      <td>0</td>\n",
       "      <td>31</td>\n",
       "      <td>7.0</td>\n",
       "      <td>17.0</td>\n",
       "      <td>7.0</td>\n",
       "      <td>17.0</td>\n",
       "    </tr>\n",
       "    <tr>\n",
       "      <th>4111217</th>\n",
       "      <td>12</td>\n",
       "      <td>2</td>\n",
       "      <td>30</td>\n",
       "      <td>0.0</td>\n",
       "      <td>0</td>\n",
       "      <td>40</td>\n",
       "      <td>11</td>\n",
       "      <td>4</td>\n",
       "      <td>0.0</td>\n",
       "      <td>0.0</td>\n",
       "      <td>...</td>\n",
       "      <td>0.092834</td>\n",
       "      <td>0.0</td>\n",
       "      <td>-0.483398</td>\n",
       "      <td>0.289795</td>\n",
       "      <td>0</td>\n",
       "      <td>31</td>\n",
       "      <td>1.0</td>\n",
       "      <td>33.0</td>\n",
       "      <td>1.0</td>\n",
       "      <td>33.0</td>\n",
       "    </tr>\n",
       "    <tr>\n",
       "      <th>4111218</th>\n",
       "      <td>12</td>\n",
       "      <td>2</td>\n",
       "      <td>31</td>\n",
       "      <td>0.0</td>\n",
       "      <td>0</td>\n",
       "      <td>37</td>\n",
       "      <td>11</td>\n",
       "      <td>1</td>\n",
       "      <td>0.0</td>\n",
       "      <td>0.0</td>\n",
       "      <td>...</td>\n",
       "      <td>0.092834</td>\n",
       "      <td>0.0</td>\n",
       "      <td>-0.137451</td>\n",
       "      <td>0.289795</td>\n",
       "      <td>0</td>\n",
       "      <td>31</td>\n",
       "      <td>1.0</td>\n",
       "      <td>33.0</td>\n",
       "      <td>1.0</td>\n",
       "      <td>33.0</td>\n",
       "    </tr>\n",
       "    <tr>\n",
       "      <th>4111219</th>\n",
       "      <td>12</td>\n",
       "      <td>2</td>\n",
       "      <td>32</td>\n",
       "      <td>1.0</td>\n",
       "      <td>0</td>\n",
       "      <td>40</td>\n",
       "      <td>11</td>\n",
       "      <td>4</td>\n",
       "      <td>0.0</td>\n",
       "      <td>0.0</td>\n",
       "      <td>...</td>\n",
       "      <td>0.092834</td>\n",
       "      <td>0.0</td>\n",
       "      <td>-0.407227</td>\n",
       "      <td>0.289795</td>\n",
       "      <td>0</td>\n",
       "      <td>31</td>\n",
       "      <td>0.0</td>\n",
       "      <td>33.0</td>\n",
       "      <td>0.0</td>\n",
       "      <td>33.0</td>\n",
       "    </tr>\n",
       "    <tr>\n",
       "      <th>4111220</th>\n",
       "      <td>12</td>\n",
       "      <td>2</td>\n",
       "      <td>33</td>\n",
       "      <td>1.0</td>\n",
       "      <td>0</td>\n",
       "      <td>37</td>\n",
       "      <td>11</td>\n",
       "      <td>1</td>\n",
       "      <td>1.0</td>\n",
       "      <td>2.0</td>\n",
       "      <td>...</td>\n",
       "      <td>0.092834</td>\n",
       "      <td>1.0</td>\n",
       "      <td>-0.225464</td>\n",
       "      <td>0.289795</td>\n",
       "      <td>0</td>\n",
       "      <td>31</td>\n",
       "      <td>0.0</td>\n",
       "      <td>33.0</td>\n",
       "      <td>0.0</td>\n",
       "      <td>33.0</td>\n",
       "    </tr>\n",
       "    <tr>\n",
       "      <th>...</th>\n",
       "      <td>...</td>\n",
       "      <td>...</td>\n",
       "      <td>...</td>\n",
       "      <td>...</td>\n",
       "      <td>...</td>\n",
       "      <td>...</td>\n",
       "      <td>...</td>\n",
       "      <td>...</td>\n",
       "      <td>...</td>\n",
       "      <td>...</td>\n",
       "      <td>...</td>\n",
       "      <td>...</td>\n",
       "      <td>...</td>\n",
       "      <td>...</td>\n",
       "      <td>...</td>\n",
       "      <td>...</td>\n",
       "      <td>...</td>\n",
       "      <td>...</td>\n",
       "      <td>...</td>\n",
       "      <td>...</td>\n",
       "      <td>...</td>\n",
       "    </tr>\n",
       "    <tr>\n",
       "      <th>9805833</th>\n",
       "      <td>34</td>\n",
       "      <td>45</td>\n",
       "      <td>18454</td>\n",
       "      <td>0.0</td>\n",
       "      <td>20</td>\n",
       "      <td>55</td>\n",
       "      <td>13</td>\n",
       "      <td>2</td>\n",
       "      <td>1.0</td>\n",
       "      <td>0.0</td>\n",
       "      <td>...</td>\n",
       "      <td>0.134521</td>\n",
       "      <td>0.5</td>\n",
       "      <td>-0.475098</td>\n",
       "      <td>-0.420166</td>\n",
       "      <td>10</td>\n",
       "      <td>30</td>\n",
       "      <td>23.0</td>\n",
       "      <td>33.0</td>\n",
       "      <td>23.0</td>\n",
       "      <td>33.0</td>\n",
       "    </tr>\n",
       "    <tr>\n",
       "      <th>9805834</th>\n",
       "      <td>34</td>\n",
       "      <td>45</td>\n",
       "      <td>16188</td>\n",
       "      <td>0.0</td>\n",
       "      <td>20</td>\n",
       "      <td>64</td>\n",
       "      <td>14</td>\n",
       "      <td>42</td>\n",
       "      <td>0.0</td>\n",
       "      <td>0.0</td>\n",
       "      <td>...</td>\n",
       "      <td>0.000000</td>\n",
       "      <td>0.0</td>\n",
       "      <td>0.000000</td>\n",
       "      <td>NaN</td>\n",
       "      <td>10</td>\n",
       "      <td>30</td>\n",
       "      <td>32.0</td>\n",
       "      <td>32.0</td>\n",
       "      <td>32.0</td>\n",
       "      <td>32.0</td>\n",
       "    </tr>\n",
       "    <tr>\n",
       "      <th>9805835</th>\n",
       "      <td>34</td>\n",
       "      <td>45</td>\n",
       "      <td>15757</td>\n",
       "      <td>0.0</td>\n",
       "      <td>20</td>\n",
       "      <td>55</td>\n",
       "      <td>13</td>\n",
       "      <td>2</td>\n",
       "      <td>0.0</td>\n",
       "      <td>0.0</td>\n",
       "      <td>...</td>\n",
       "      <td>0.134521</td>\n",
       "      <td>0.0</td>\n",
       "      <td>0.155884</td>\n",
       "      <td>-0.420166</td>\n",
       "      <td>10</td>\n",
       "      <td>30</td>\n",
       "      <td>0.0</td>\n",
       "      <td>33.0</td>\n",
       "      <td>0.0</td>\n",
       "      <td>33.0</td>\n",
       "    </tr>\n",
       "    <tr>\n",
       "      <th>9805836</th>\n",
       "      <td>34</td>\n",
       "      <td>45</td>\n",
       "      <td>19648</td>\n",
       "      <td>0.0</td>\n",
       "      <td>20</td>\n",
       "      <td>40</td>\n",
       "      <td>11</td>\n",
       "      <td>4</td>\n",
       "      <td>0.0</td>\n",
       "      <td>0.0</td>\n",
       "      <td>...</td>\n",
       "      <td>0.134521</td>\n",
       "      <td>0.0</td>\n",
       "      <td>-0.091736</td>\n",
       "      <td>-0.420166</td>\n",
       "      <td>10</td>\n",
       "      <td>30</td>\n",
       "      <td>23.0</td>\n",
       "      <td>33.0</td>\n",
       "      <td>23.0</td>\n",
       "      <td>33.0</td>\n",
       "    </tr>\n",
       "    <tr>\n",
       "      <th>9805837</th>\n",
       "      <td>34</td>\n",
       "      <td>45</td>\n",
       "      <td>969</td>\n",
       "      <td>0.0</td>\n",
       "      <td>20</td>\n",
       "      <td>37</td>\n",
       "      <td>11</td>\n",
       "      <td>1</td>\n",
       "      <td>0.0</td>\n",
       "      <td>0.0</td>\n",
       "      <td>...</td>\n",
       "      <td>0.134521</td>\n",
       "      <td>0.5</td>\n",
       "      <td>-0.605957</td>\n",
       "      <td>-0.420166</td>\n",
       "      <td>10</td>\n",
       "      <td>30</td>\n",
       "      <td>17.0</td>\n",
       "      <td>33.0</td>\n",
       "      <td>17.0</td>\n",
       "      <td>33.0</td>\n",
       "    </tr>\n",
       "  </tbody>\n",
       "</table>\n",
       "<p>5694622 rows × 35 columns</p>\n",
       "</div>"
      ],
      "text/plain": [
       "         date_block_num  shop_id  item_id  item_cnt_month  city_code  \\\n",
       "4111216              12        2       27             0.0          0   \n",
       "4111217              12        2       30             0.0          0   \n",
       "4111218              12        2       31             0.0          0   \n",
       "4111219              12        2       32             1.0          0   \n",
       "4111220              12        2       33             1.0          0   \n",
       "...                 ...      ...      ...             ...        ...   \n",
       "9805833              34       45    18454             0.0         20   \n",
       "9805834              34       45    16188             0.0         20   \n",
       "9805835              34       45    15757             0.0         20   \n",
       "9805836              34       45    19648             0.0         20   \n",
       "9805837              34       45      969             0.0         20   \n",
       "\n",
       "         item_category_id  type_code  subtype_code  item_cnt_month_lag_1  \\\n",
       "4111216                19          5            10                   0.0   \n",
       "4111217                40         11             4                   0.0   \n",
       "4111218                37         11             1                   0.0   \n",
       "4111219                40         11             4                   0.0   \n",
       "4111220                37         11             1                   1.0   \n",
       "...                   ...        ...           ...                   ...   \n",
       "9805833                55         13             2                   1.0   \n",
       "9805834                64         14            42                   0.0   \n",
       "9805835                55         13             2                   0.0   \n",
       "9805836                40         11             4                   0.0   \n",
       "9805837                37         11             1                   0.0   \n",
       "\n",
       "         item_cnt_month_lag_2  ...  date_city_avg_item_cnt_lag_1  \\\n",
       "4111216                   0.0  ...                      0.092834   \n",
       "4111217                   0.0  ...                      0.092834   \n",
       "4111218                   0.0  ...                      0.092834   \n",
       "4111219                   0.0  ...                      0.092834   \n",
       "4111220                   2.0  ...                      0.092834   \n",
       "...                       ...  ...                           ...   \n",
       "9805833                   0.0  ...                      0.134521   \n",
       "9805834                   0.0  ...                      0.000000   \n",
       "9805835                   0.0  ...                      0.134521   \n",
       "9805836                   0.0  ...                      0.134521   \n",
       "9805837                   0.0  ...                      0.134521   \n",
       "\n",
       "         date_item_city_avg_item_cnt_lag_1  delta_price_lag  \\\n",
       "4111216                                0.0         0.125122   \n",
       "4111217                                0.0        -0.483398   \n",
       "4111218                                0.0        -0.137451   \n",
       "4111219                                0.0        -0.407227   \n",
       "4111220                                1.0        -0.225464   \n",
       "...                                    ...              ...   \n",
       "9805833                                0.5        -0.475098   \n",
       "9805834                                0.0         0.000000   \n",
       "9805835                                0.0         0.155884   \n",
       "9805836                                0.0        -0.091736   \n",
       "9805837                                0.5        -0.605957   \n",
       "\n",
       "         delta_revenue_lag_1  month  day_cnt  item_first_sale  item_last_sale  \\\n",
       "4111216             0.289795      0       31              7.0            17.0   \n",
       "4111217             0.289795      0       31              1.0            33.0   \n",
       "4111218             0.289795      0       31              1.0            33.0   \n",
       "4111219             0.289795      0       31              0.0            33.0   \n",
       "4111220             0.289795      0       31              0.0            33.0   \n",
       "...                      ...    ...      ...              ...             ...   \n",
       "9805833            -0.420166     10       30             23.0            33.0   \n",
       "9805834                  NaN     10       30             32.0            32.0   \n",
       "9805835            -0.420166     10       30              0.0            33.0   \n",
       "9805836            -0.420166     10       30             23.0            33.0   \n",
       "9805837            -0.420166     10       30             17.0            33.0   \n",
       "\n",
       "         item_shop_first_sale  item_shop_last_sale  \n",
       "4111216                   7.0                 17.0  \n",
       "4111217                   1.0                 33.0  \n",
       "4111218                   1.0                 33.0  \n",
       "4111219                   0.0                 33.0  \n",
       "4111220                   0.0                 33.0  \n",
       "...                       ...                  ...  \n",
       "9805833                  23.0                 33.0  \n",
       "9805834                  32.0                 32.0  \n",
       "9805835                   0.0                 33.0  \n",
       "9805836                  23.0                 33.0  \n",
       "9805837                  17.0                 33.0  \n",
       "\n",
       "[5694622 rows x 35 columns]"
      ]
     },
     "execution_count": 78,
     "metadata": {},
     "output_type": "execute_result"
    }
   ],
   "source": [
    "data.drop(\n",
    "    [\n",
    "        'date_shop_type_avg_item_cnt_lag_1',\n",
    "        'date_shop_subtype_avg_item_cnt_lag_1',\n",
    "        'date_type_avg_item_cnt_lag_1',\n",
    "        'date_subtype_avg_item_cnt_lag_1'\n",
    "    ],\n",
    "    axis=1\n",
    ")"
   ]
  },
  {
   "cell_type": "code",
   "execution_count": 79,
   "metadata": {},
   "outputs": [],
   "source": [
    "X_train = data[data.date_block_num < 33].drop(['item_cnt_month'], axis=1)\n",
    "Y_train = data[data.date_block_num < 33]['item_cnt_month']\n",
    "X_valid = data[data.date_block_num == 33].drop(['item_cnt_month'], axis=1)\n",
    "Y_valid = data[data.date_block_num == 33]['item_cnt_month']\n",
    "X_test = data[data.date_block_num == 34].drop(['item_cnt_month'], axis=1)"
   ]
  },
  {
   "cell_type": "code",
   "execution_count": 80,
   "metadata": {},
   "outputs": [],
   "source": [
    "del data\n",
    "gc.collect();"
   ]
  },
  {
   "cell_type": "code",
   "execution_count": 81,
   "metadata": {},
   "outputs": [],
   "source": [
    "lgb_train = lgb.Dataset(X_train, Y_train)\n",
    "lgb_eval = lgb.Dataset(X_valid, Y_valid)\n",
    "\n",
    "params = {\n",
    "    'task':'train',\n",
    "    'objective':'regression',\n",
    "    'seed':71,\n",
    "    'boosting_type':'gbdt',\n",
    "    'verbose':0,\n",
    "    'metrics':{'l2'},\n",
    "    'num_leavers':31,\n",
    "    'learning_rate':0.1,\n",
    "    'feature_fraction':0.9,\n",
    "    'bagging_fraction':'0.8',\n",
    "    'bagging_freq':5,\n",
    "}"
   ]
  },
  {
   "cell_type": "code",
   "execution_count": 82,
   "metadata": {},
   "outputs": [
    {
     "name": "stdout",
     "output_type": "stream",
     "text": [
      "[1]\tvalid_0's l2: 1.06951\n",
      "Training until validation scores don't improve for 10 rounds\n",
      "[2]\tvalid_0's l2: 1.01998\n",
      "[3]\tvalid_0's l2: 0.979393\n",
      "[4]\tvalid_0's l2: 0.947248\n",
      "[5]\tvalid_0's l2: 0.92065\n",
      "[6]\tvalid_0's l2: 0.898188\n",
      "[7]\tvalid_0's l2: 0.879565\n",
      "[8]\tvalid_0's l2: 0.86524\n",
      "[9]\tvalid_0's l2: 0.853253\n",
      "[10]\tvalid_0's l2: 0.842813\n",
      "[11]\tvalid_0's l2: 0.833759\n",
      "[12]\tvalid_0's l2: 0.826173\n",
      "[13]\tvalid_0's l2: 0.817869\n",
      "[14]\tvalid_0's l2: 0.812612\n",
      "[15]\tvalid_0's l2: 0.807897\n",
      "[16]\tvalid_0's l2: 0.803873\n",
      "[17]\tvalid_0's l2: 0.800406\n",
      "[18]\tvalid_0's l2: 0.796914\n",
      "[19]\tvalid_0's l2: 0.794648\n",
      "[20]\tvalid_0's l2: 0.791204\n",
      "[21]\tvalid_0's l2: 0.789101\n",
      "[22]\tvalid_0's l2: 0.785625\n",
      "[23]\tvalid_0's l2: 0.784264\n",
      "[24]\tvalid_0's l2: 0.783513\n",
      "[25]\tvalid_0's l2: 0.782011\n",
      "[26]\tvalid_0's l2: 0.781292\n",
      "[27]\tvalid_0's l2: 0.780431\n",
      "[28]\tvalid_0's l2: 0.779225\n",
      "[29]\tvalid_0's l2: 0.778748\n",
      "[30]\tvalid_0's l2: 0.778223\n",
      "[31]\tvalid_0's l2: 0.778266\n",
      "[32]\tvalid_0's l2: 0.778185\n",
      "[33]\tvalid_0's l2: 0.778114\n",
      "[34]\tvalid_0's l2: 0.778809\n",
      "[35]\tvalid_0's l2: 0.778331\n",
      "[36]\tvalid_0's l2: 0.778232\n",
      "[37]\tvalid_0's l2: 0.777891\n",
      "[38]\tvalid_0's l2: 0.777856\n",
      "[39]\tvalid_0's l2: 0.777661\n",
      "[40]\tvalid_0's l2: 0.776289\n",
      "[41]\tvalid_0's l2: 0.776035\n",
      "[42]\tvalid_0's l2: 0.775759\n",
      "[43]\tvalid_0's l2: 0.77831\n",
      "[44]\tvalid_0's l2: 0.778201\n",
      "[45]\tvalid_0's l2: 0.777796\n",
      "[46]\tvalid_0's l2: 0.777647\n",
      "[47]\tvalid_0's l2: 0.777467\n",
      "[48]\tvalid_0's l2: 0.77741\n",
      "[49]\tvalid_0's l2: 0.777973\n",
      "[50]\tvalid_0's l2: 0.77779\n",
      "[51]\tvalid_0's l2: 0.777885\n",
      "[52]\tvalid_0's l2: 0.777888\n",
      "Early stopping, best iteration is:\n",
      "[42]\tvalid_0's l2: 0.775759\n"
     ]
    }
   ],
   "source": [
    "model = lgb.train(\n",
    "    params,\n",
    "    lgb_train,\n",
    "    num_boost_round=100,\n",
    "    valid_sets=lgb_eval,\n",
    "    early_stopping_rounds=10\n",
    ")"
   ]
  },
  {
   "cell_type": "code",
   "execution_count": 84,
   "metadata": {},
   "outputs": [],
   "source": [
    "Y_pred = model.predict(X_valid, num_iteration=model.best_iteration).clip(0, 20)\n",
    "Y_test = model.predict(X_test, num_iteration=model.best_iteration).clip(0, 20)\n",
    "\n",
    "submission = pd.DataFrame({\n",
    "    \"ID\": test.index, \n",
    "    \"item_cnt_month\": Y_test\n",
    "})\n",
    "submission.to_csv('../data/output/sub_2020-10-22-06-55_lgb.csv', index=False)"
   ]
  },
  {
   "cell_type": "code",
   "execution_count": 85,
   "metadata": {},
   "outputs": [],
   "source": [
    "# save predictions for an ensemble\n",
    "pickle.dump(Y_pred, open('../logs/train_2020-10-22-06-56_lgb.pickle', 'wb'))\n",
    "pickle.dump(Y_test, open('../logs/test_2020-10-22-06-56_lgb.pickle', 'wb'))"
   ]
  },
  {
   "cell_type": "code",
   "execution_count": 92,
   "metadata": {},
   "outputs": [
    {
     "data": {
      "text/plain": [
       "<matplotlib.axes._subplots.AxesSubplot at 0x7f5601603ad0>"
      ]
     },
     "execution_count": 92,
     "metadata": {},
     "output_type": "execute_result"
    },
    {
     "data": {
      "image/png": "[encoded data removed]",
      "text/plain": [
       "<Figure size 720x1008 with 1 Axes>"
      ]
     },
     "metadata": {
      "needs_background": "light"
     },
     "output_type": "display_data"
    }
   ],
   "source": [
    "#importance = pd.DataFrame(model.feature_importance(), index=X_train.columns, columns=['importance'])\n",
    "fig, ax = plt.subplots(1,1,figsize=(10, 14))\n",
    "lgb.plot_importance(booster=model, ax=ax)"
   ]
  },
  {
   "cell_type": "code",
   "execution_count": null,
   "metadata": {},
   "outputs": [],
   "source": []
  }
 ],
 "metadata": {
  "kernelspec": {
   "display_name": "Python 3",
   "language": "python",
   "name": "python3"
  },
  "language_info": {
   "codemirror_mode": {
    "name": "ipython",
    "version": 3
   },
   "file_extension": ".py",
   "mimetype": "text/x-python",
   "name": "python",
   "nbconvert_exporter": "python",
   "pygments_lexer": "ipython3",
   "version": "3.7.6"
  },
  "widgets": {
   "application/vnd.jupyter.widget-state+json": {
    "state": {},
    "version_major": 2,
    "version_minor": 0
   }
  }
 },
 "nbformat": 4,
 "nbformat_minor": 4
}
